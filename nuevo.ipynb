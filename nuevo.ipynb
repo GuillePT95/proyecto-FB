{
 "cells": [
  {
   "cell_type": "code",
   "execution_count": 13,
   "metadata": {},
   "outputs": [
    {
     "name": "stdout",
     "output_type": "stream",
     "text": [
      "{'Título': 'Chalet en venta en Calle de Soto del Henares, 34', 'Precio': 'Sin precio', 'Superficie construida': '', 'Habitaciones': '', 'Baños': '', 'Conservación': '', 'Referencia': ''}\n",
      "Datos extraídos y guardados en inmueble_detalles.csv\n"
     ]
    }
   ],
   "source": [
    "from selenium import webdriver\n",
    "from selenium.webdriver.common.by import By\n",
    "from selenium.webdriver.chrome.service import Service\n",
    "from selenium.webdriver.support.ui import WebDriverWait\n",
    "from selenium.webdriver.support import expected_conditions as EC\n",
    "from webdriver_manager.chrome import ChromeDriverManager\n",
    "import pandas as pd\n",
    "\n",
    "# Inicializar el navegador\n",
    "driver = webdriver.Chrome(service=Service(ChromeDriverManager().install()))\n",
    "\n",
    "# URL del inmueble específico\n",
    "url_inmueble = \"https://www.pisos.com/comprar/chalet-villalbilla_centro_urbano-3032755362_109700/\"\n",
    "\n",
    "# Abrir la página del inmueble\n",
    "driver.get(url_inmueble)\n",
    "\n",
    "# Esperar a que la página cargue\n",
    "WebDriverWait(driver, 20).until(\n",
    "    EC.presence_of_element_located((By.CLASS_NAME, 'features__content'))\n",
    ")\n",
    "\n",
    "# Crear diccionario vacío para los datos del inmueble\n",
    "inmueble = {}\n",
    "\n",
    "try:\n",
    "    # Extraer el título del inmueble\n",
    "    try:\n",
    "        titulo = driver.find_element(By.TAG_NAME, 'h1').text\n",
    "    except:\n",
    "        titulo = 'Sin título'\n",
    "\n",
    "    # Extraer el precio del inmueble\n",
    "    try:\n",
    "        precio = driver.find_element(By.CLASS_NAME, 'details__price').text\n",
    "    except:\n",
    "        precio = 'Sin precio'\n",
    "\n",
    "    # Extraer los valores de las características (superficie, habitaciones, etc.)\n",
    "    superficie = driver.find_element(By.XPATH, \"//span[contains(text(),'Superficie construida:')]/following-sibling::span\").text\n",
    "    habitaciones = driver.find_element(By.XPATH, \"//span[contains(text(),'Habitaciones:')]/following-sibling::span\").text\n",
    "    banos = driver.find_element(By.XPATH, \"//span[contains(text(),'Baños:')]/following-sibling::span\").text\n",
    "    conservacion = driver.find_element(By.XPATH, \"//span[contains(text(),'Conservación:')]/following-sibling::span\").text\n",
    "    referencia = driver.find_element(By.XPATH, \"//span[contains(text(),'Referencia:')]/following-sibling::span\").text\n",
    "\n",
    "    # Guardar los datos en el diccionario\n",
    "    inmueble = {\n",
    "        'Título': titulo,\n",
    "        'Precio': precio,\n",
    "        'Superficie construida': superficie,\n",
    "        'Habitaciones': habitaciones,\n",
    "        'Baños': banos,\n",
    "        'Conservación': conservacion,\n",
    "        'Referencia': referencia\n",
    "    }\n",
    "\n",
    "    # Imprimir los resultados para revisión\n",
    "    print(inmueble)\n",
    "\n",
    "    # Guardar los datos en un archivo CSV\n",
    "    df = pd.DataFrame([inmueble])\n",
    "    df.to_csv('inmueble_detalles.csv', index=False)\n",
    "    print(\"Datos extraídos y guardados en inmueble_detalles.csv\")\n",
    "\n",
    "except Exception as e:\n",
    "    print(f\"Error extrayendo información: {e}\")\n",
    "\n",
    "# Cerrar el navegador\n",
    "driver.quit()\n"
   ]
  }
 ],
 "metadata": {
  "kernelspec": {
   "display_name": ".venv",
   "language": "python",
   "name": "python3"
  },
  "language_info": {
   "codemirror_mode": {
    "name": "ipython",
    "version": 3
   },
   "file_extension": ".py",
   "mimetype": "text/x-python",
   "name": "python",
   "nbconvert_exporter": "python",
   "pygments_lexer": "ipython3",
   "version": "3.12.3"
  }
 },
 "nbformat": 4,
 "nbformat_minor": 2
}
