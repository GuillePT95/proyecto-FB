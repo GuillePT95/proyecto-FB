{
 "cells": [
  {
   "cell_type": "code",
   "execution_count": 3,
   "metadata": {},
   "outputs": [
    {
     "name": "stdout",
     "output_type": "stream",
     "text": [
      "Tablas en la base de datos: []\n"
     ]
    }
   ],
   "source": [
    "import sqlite3\n",
    "\n",
    "# Intentar abrir la base de datos y listar las tablas\n",
    "db_path = 'alquiler_madrid_nuevo.db'\n",
    "conn = sqlite3.connect(db_path)\n",
    "\n",
    "# Verificar si la conexión es correcta y listar las tablas\n",
    "cursor = conn.cursor()\n",
    "cursor.execute(\"SELECT name FROM sqlite_master WHERE type='table';\")\n",
    "tables = cursor.fetchall()\n",
    "print(\"Tablas en la base de datos:\", tables)\n",
    "\n",
    "conn.close()\n"
   ]
  },
  {
   "cell_type": "code",
   "execution_count": 6,
   "metadata": {},
   "outputs": [
    {
     "name": "stdout",
     "output_type": "stream",
     "text": [
      "Tabla `inmuebles` creada con éxito en la base de datos.\n",
      "Tablas en la base de datos: [('inmuebles',), ('sqlite_sequence',)]\n"
     ]
    }
   ],
   "source": [
    "import sqlite3\n",
    "\n",
    "# Ruta del archivo de base de datos\n",
    "db_path = 'alquiler_madrid_nuevo.db'\n",
    "\n",
    "# Conectar a la base de datos (crea el archivo si no existe)\n",
    "conn = sqlite3.connect(db_path)\n",
    "cursor = conn.cursor()\n",
    "\n",
    "# Crear la tabla `inmuebles` con la estructura especificada\n",
    "create_table_query = \"\"\"\n",
    "CREATE TABLE IF NOT EXISTS inmuebles (\n",
    "    id INTEGER PRIMARY KEY AUTOINCREMENT,\n",
    "    descripcion TEXT,\n",
    "    localizacion TEXT,\n",
    "    precio REAL,\n",
    "    ultima_actualizacion DATE,\n",
    "    consumo_energetico TEXT,\n",
    "    emisiones_co2 TEXT,\n",
    "    tipo_operacion TEXT,\n",
    "    superficie_construida REAL,\n",
    "    superficie_util TEXT,\n",
    "    habitaciones TEXT,\n",
    "    baños TEXT,\n",
    "    antigüedad TEXT,\n",
    "    conservacion TEXT,\n",
    "    planta TEXT,\n",
    "    tipo_casa TEXT\n",
    ");\n",
    "\"\"\"\n",
    "\n",
    "# Ejecutar la query para crear la tabla\n",
    "try:\n",
    "    cursor.execute(create_table_query)\n",
    "    print(\"Tabla `inmuebles` creada con éxito en la base de datos.\")\n",
    "except sqlite3.Error as e:\n",
    "    print(f\"Error al crear la tabla: {e}\")\n",
    "\n",
    "# Confirmar que la tabla fue creada correctamente\n",
    "cursor.execute(\"SELECT name FROM sqlite_master WHERE type='table';\")\n",
    "print(\"Tablas en la base de datos:\", cursor.fetchall())\n",
    "\n",
    "# Cerrar la conexión\n",
    "conn.commit()\n",
    "conn.close()\n"
   ]
  },
  {
   "cell_type": "code",
   "execution_count": 7,
   "metadata": {},
   "outputs": [
    {
     "name": "stdout",
     "output_type": "stream",
     "text": [
      "Conexión exitosa a la base de datos\n",
      "Datos extraídos exitosamente:\n",
      "Empty DataFrame\n",
      "Columns: [descripcion, localizacion, precio, ultima_actualizacion, consumo_energetico, emisiones_co2, tipo_operacion, superficie_construida, superficie_util, habitaciones, baños, antigüedad, conservacion, planta, tipo_casa]\n",
      "Index: []\n",
      "Datos guardados en resultados_query.csv\n"
     ]
    }
   ],
   "source": [
    "import sqlite3\n",
    "import pandas as pd\n",
    "\n",
    "def conectar_bd(db_path):\n",
    "    \"\"\"\n",
    "    Conecta a la base de datos y devuelve el objeto de conexión.\n",
    "    \"\"\"\n",
    "    try:\n",
    "        conn = sqlite3.connect(db_path)\n",
    "        print(\"Conexión exitosa a la base de datos\")\n",
    "        return conn\n",
    "    except sqlite3.Error as e:\n",
    "        print(f\"Error al conectar a la base de datos: {e}\")\n",
    "        return None\n",
    "\n",
    "def ejecutar_query(conn, query):\n",
    "    \"\"\"\n",
    "    Ejecuta una query y devuelve los resultados en un DataFrame.\n",
    "    \"\"\"\n",
    "    try:\n",
    "        # Ejecutar la query y almacenar el resultado en un DataFrame\n",
    "        df = pd.read_sql_query(query, conn)\n",
    "        return df\n",
    "    except sqlite3.Error as e:\n",
    "        print(f\"Error al ejecutar la consulta: {e}\")\n",
    "        return None\n",
    "\n",
    "def main():\n",
    "    # Ruta de la base de datos (asegúrate de que es la misma en la que creaste la tabla)\n",
    "    db_path = 'alquiler_madrid_nuevo.db'\n",
    "\n",
    "    # Conectar a la base de datos\n",
    "    conn = conectar_bd(db_path)\n",
    "    if conn is None:\n",
    "        return\n",
    "    \n",
    "    # Definir la consulta SQL para extraer datos específicos de la tabla inmuebles\n",
    "    query = \"\"\"\n",
    "    SELECT descripcion, localizacion, precio, ultima_actualizacion, consumo_energetico, emisiones_co2,\n",
    "           tipo_operacion, superficie_construida, superficie_util, habitaciones, baños, antigüedad, \n",
    "           conservacion, planta, tipo_casa\n",
    "    FROM inmuebles\n",
    "    WHERE precio BETWEEN 500 AND 1500\n",
    "    AND tipo_operacion = 'Alquiler'\n",
    "    ORDER BY precio ASC;\n",
    "    \"\"\"\n",
    "    \n",
    "    # Ejecutar la query y obtener el resultado\n",
    "    df = ejecutar_query(conn, query)\n",
    "    if df is not None:\n",
    "        print(\"Datos extraídos exitosamente:\")\n",
    "        print(df.head())  # Muestra las primeras filas para verificar\n",
    "        \n",
    "        # Guardar el resultado en un archivo CSV si es necesario\n",
    "        df.to_csv(\"resultados_query.csv\", index=False)\n",
    "        print(\"Datos guardados en resultados_query.csv\")\n",
    "    \n",
    "    # Cerrar la conexión\n",
    "    conn.close()\n",
    "\n",
    "if __name__ == \"__main__\":\n",
    "    main()\n"
   ]
  },
  {
   "cell_type": "markdown",
   "metadata": {},
   "source": [
    "------------------"
   ]
  },
  {
   "cell_type": "markdown",
   "metadata": {},
   "source": [
    "Ahora con las ventas"
   ]
  },
  {
   "cell_type": "code",
   "execution_count": 8,
   "metadata": {},
   "outputs": [
    {
     "name": "stdout",
     "output_type": "stream",
     "text": [
      "Tablas en la base de datos: [('inmuebles_venta',), ('sqlite_sequence',)]\n"
     ]
    }
   ],
   "source": [
    "import sqlite3\n",
    "\n",
    "# Intentar abrir la base de datos y listar las tablas\n",
    "db_path = 'inmuebles_venta.db'\n",
    "conn = sqlite3.connect(db_path)\n",
    "\n",
    "# Verificar si la conexión es correcta y listar las tablas\n",
    "cursor = conn.cursor()\n",
    "cursor.execute(\"SELECT name FROM sqlite_master WHERE type='table';\")\n",
    "tables = cursor.fetchall()\n",
    "print(\"Tablas en la base de datos:\", tables)\n",
    "\n",
    "conn.close()\n"
   ]
  },
  {
   "cell_type": "code",
   "execution_count": 9,
   "metadata": {},
   "outputs": [
    {
     "name": "stdout",
     "output_type": "stream",
     "text": [
      "Tabla `inmuebles_venta` creada con éxito en la base de datos.\n",
      "Tablas en la base de datos: [('inmuebles_venta',), ('sqlite_sequence',)]\n"
     ]
    }
   ],
   "source": [
    "import sqlite3\n",
    "\n",
    "# Ruta del archivo de base de datos\n",
    "db_path = 'inmuebles_venta.db'\n",
    "\n",
    "# Conectar a la base de datos (crea el archivo si no existe)\n",
    "conn = sqlite3.connect(db_path)\n",
    "cursor = conn.cursor()\n",
    "\n",
    "# Crear la tabla `inmuebles_venta` con la estructura especificada\n",
    "create_table_query = \"\"\"\n",
    "CREATE TABLE IF NOT EXISTS inmuebles_venta (\n",
    "    id INTEGER PRIMARY KEY AUTOINCREMENT,\n",
    "    descripcion TEXT,\n",
    "    localizacion TEXT,\n",
    "    precio REAL,\n",
    "    ultima_actualizacion DATE,\n",
    "    consumo_energetico TEXT,\n",
    "    emisiones_co2 TEXT,\n",
    "    tipo_operacion TEXT,\n",
    "    superficie_construida REAL,\n",
    "    superficie_util REAL,\n",
    "    habitaciones TEXT,\n",
    "    baños TEXT,\n",
    "    antigüedad TEXT,\n",
    "    conservacion TEXT,\n",
    "    planta TEXT,\n",
    "    tipo_casa TEXT,\n",
    "    gastos_comunidad REAL,\n",
    "    exterior TEXT,\n",
    "    interior TEXT,\n",
    "    referencia TEXT\n",
    ");\n",
    "\"\"\"\n",
    "\n",
    "# Ejecutar la query para crear la tabla\n",
    "try:\n",
    "    cursor.execute(create_table_query)\n",
    "    print(\"Tabla `inmuebles_venta` creada con éxito en la base de datos.\")\n",
    "except sqlite3.Error as e:\n",
    "    print(f\"Error al crear la tabla: {e}\")\n",
    "\n",
    "# Confirmar que la tabla fue creada correctamente\n",
    "cursor.execute(\"SELECT name FROM sqlite_master WHERE type='table';\")\n",
    "print(\"Tablas en la base de datos:\", cursor.fetchall())\n",
    "\n",
    "# Cerrar la conexión\n",
    "conn.commit()\n",
    "conn.close()\n"
   ]
  },
  {
   "cell_type": "code",
   "execution_count": 10,
   "metadata": {},
   "outputs": [
    {
     "name": "stdout",
     "output_type": "stream",
     "text": [
      "Conexión exitosa a la base de datos\n",
      "Datos extraídos exitosamente:\n",
      "Empty DataFrame\n",
      "Columns: [descripcion, localizacion, precio, ultima_actualizacion, consumo_energetico, emisiones_co2, tipo_operacion, superficie_construida, superficie_util, habitaciones, baños, antigüedad, conservacion, planta, tipo_casa, gastos_comunidad, exterior, interior, referencia]\n",
      "Index: []\n",
      "Datos guardados en resultados_query_venta.csv\n"
     ]
    }
   ],
   "source": [
    "import sqlite3\n",
    "import pandas as pd\n",
    "\n",
    "def conectar_bd(db_path):\n",
    "    \"\"\"\n",
    "    Conecta a la base de datos y devuelve el objeto de conexión.\n",
    "    \"\"\"\n",
    "    try:\n",
    "        conn = sqlite3.connect(db_path)\n",
    "        print(\"Conexión exitosa a la base de datos\")\n",
    "        return conn\n",
    "    except sqlite3.Error as e:\n",
    "        print(f\"Error al conectar a la base de datos: {e}\")\n",
    "        return None\n",
    "\n",
    "def ejecutar_query(conn, query):\n",
    "    \"\"\"\n",
    "    Ejecuta una query y devuelve los resultados en un DataFrame.\n",
    "    \"\"\"\n",
    "    try:\n",
    "        # Ejecutar la query y almacenar el resultado en un DataFrame\n",
    "        df = pd.read_sql_query(query, conn)\n",
    "        return df\n",
    "    except sqlite3.Error as e:\n",
    "        print(f\"Error al ejecutar la consulta: {e}\")\n",
    "        return None\n",
    "\n",
    "def main():\n",
    "    # Ruta de la base de datos (asegúrate de que es la misma en la que creaste la tabla)\n",
    "    db_path = 'inmuebles_venta.db'\n",
    "\n",
    "    # Conectar a la base de datos\n",
    "    conn = conectar_bd(db_path)\n",
    "    if conn is None:\n",
    "        return\n",
    "    \n",
    "    # Definir la consulta SQL para extraer datos específicos de la tabla inmuebles_venta\n",
    "    query = \"\"\"\n",
    "    SELECT descripcion, localizacion, precio, ultima_actualizacion, consumo_energetico, emisiones_co2,\n",
    "           tipo_operacion, superficie_construida, superficie_util, habitaciones, baños, antigüedad, \n",
    "           conservacion, planta, tipo_casa, gastos_comunidad, exterior, interior, referencia\n",
    "    FROM inmuebles_venta\n",
    "    WHERE precio BETWEEN 300000 AND 1000000\n",
    "    AND tipo_operacion = 'Compra'\n",
    "    ORDER BY precio ASC;\n",
    "    \"\"\"\n",
    "    \n",
    "    # Ejecutar la query y obtener el resultado\n",
    "    df = ejecutar_query(conn, query)\n",
    "    if df is not None:\n",
    "        print(\"Datos extraídos exitosamente:\")\n",
    "        print(df.head())  # Muestra las primeras filas para verificar\n",
    "        \n",
    "        # Guardar el resultado en un archivo CSV si es necesario\n",
    "        df.to_csv(\"resultados_query_venta.csv\", index=False)\n",
    "        print(\"Datos guardados en resultados_query_venta.csv\")\n",
    "    \n",
    "    # Cerrar la conexión\n",
    "    conn.close()\n",
    "\n",
    "if __name__ == \"__main__\":\n",
    "    main()\n"
   ]
  }
 ],
 "metadata": {
  "kernelspec": {
   "display_name": ".venv",
   "language": "python",
   "name": "python3"
  },
  "language_info": {
   "codemirror_mode": {
    "name": "ipython",
    "version": 3
   },
   "file_extension": ".py",
   "mimetype": "text/x-python",
   "name": "python",
   "nbconvert_exporter": "python",
   "pygments_lexer": "ipython3",
   "version": "3.12.3"
  }
 },
 "nbformat": 4,
 "nbformat_minor": 2
}
