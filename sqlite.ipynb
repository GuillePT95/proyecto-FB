{
 "cells": [
  {
   "cell_type": "code",
   "execution_count": 1,
   "metadata": {},
   "outputs": [
    {
     "name": "stdout",
     "output_type": "stream",
     "text": [
      "(1, 'Casa unifamiliar en alquiler en Calle XIX', 'Las Matas-Los Peñascales (Las Rozas de Madrid)', 4000.0, '2024-10-28', None, None, 'Alquiler', 600.0, '600.0', '6', '7', 'Entre 5 y 10 años', 'En buen estado', 'No especificado', 'Casa')\n",
      "(2, 'Piso en alquiler en Zona Avenida de Europa', 'Zona Avenida de Europa (Pozuelo de Alarcón)', 1400.0, '2024-10-28', None, None, 'Alquiler', 65.0, 'No especificado', '1', '1', 'No especificado', 'No especificado', '2ª', 'Piso')\n",
      "(3, 'Piso en alquiler en Calle Luis Garcia Cereceda, Número 3', 'La Finca (Pozuelo de Alarcón)', 5500.0, '2024-10-28', 'Consumo:15 kWh/m² año', 'Emisiones:2 Kg CO₂/m² año', 'Alquiler', 190.0, '170.0', '3', '3', 'Menos de 5 años', 'En buen estado', '2ª', 'Piso')\n",
      "(4, 'Estudio en alquiler en Calle de Pollensa, 5', 'Parque Empresarial (Las Rozas de Madrid)', 1147.0, '2024-07-03', None, None, 'Alquiler', 50.0, 'No especificado', 'No especificado', '1', 'No especificado', 'No especificado', 'No especificado', 'Estudio')\n",
      "(5, 'Piso en alquiler en Calle Gran Vía, cerca de Calle de García Molinas', 'Universidad-Malasaña (Distrito Centro. Madrid Capital)', 3500.0, '2024-10-03', 'Consumo:70 kWh/m² año', 'Emisiones:15 Kg CO₂/m² año', 'Alquiler', 122.0, '120.0', '2', '2', 'Entre 5 y 10 años', 'Reformado', '8ª', 'Piso')\n"
     ]
    }
   ],
   "source": [
    "import sqlite3\n",
    "import pandas as pd\n",
    "\n",
    "# Cargar el archivo CSV\n",
    "ruta_csv = ('alquiler_inmuebles_limpio.csv')\n",
    "datos = pd.read_csv(ruta_csv)\n",
    "\n",
    "# Conectar a la base de datos (se creará si no existe)\n",
    "conn = sqlite3.connect('alquiler_madrid.db')\n",
    "cursor = conn.cursor()\n",
    "\n",
    "# Crear la tabla en SQLite\n",
    "cursor.execute('''\n",
    "    CREATE TABLE IF NOT EXISTS inmuebles (\n",
    "        id INTEGER PRIMARY KEY AUTOINCREMENT,\n",
    "        descripcion TEXT,\n",
    "        localizacion TEXT,\n",
    "        precio REAL,\n",
    "        ultima_actualizacion DATE,\n",
    "        consumo_energetico TEXT,\n",
    "        emisiones_co2 TEXT,\n",
    "        tipo_operacion TEXT,\n",
    "        superficie_construida REAL,\n",
    "        superficie_util TEXT,\n",
    "        habitaciones TEXT,\n",
    "        baños TEXT,\n",
    "        antigüedad TEXT,\n",
    "        conservacion TEXT,\n",
    "        planta TEXT,\n",
    "        tipo_casa TEXT\n",
    "    )\n",
    "''')\n",
    "\n",
    "# Insertar los datos en la tabla\n",
    "for _, fila in datos.iterrows():\n",
    "    cursor.execute('''\n",
    "        INSERT INTO inmuebles (descripcion, localizacion, precio, ultima_actualizacion,\n",
    "                               consumo_energetico, emisiones_co2, tipo_operacion, \n",
    "                               superficie_construida, superficie_util, habitaciones, \n",
    "                               baños, antigüedad, conservacion, planta, tipo_casa)\n",
    "        VALUES (?, ?, ?, ?, ?, ?, ?, ?, ?, ?, ?, ?, ?, ?, ?)\n",
    "    ''', (\n",
    "        fila['Descripción'], fila['Localización'], fila['Precio'], \n",
    "        fila['Última Actualización'], fila['Consumo Energético'], \n",
    "        fila['Emisiones Co2'], fila['Tipo De Operación'], \n",
    "        fila['Superficie Construida'], fila['Superficie Útil'], \n",
    "        fila['Habitaciones'], fila['Baños'], fila['Antigüedad'], \n",
    "        fila['Conservación'], fila['Planta'], fila['Tipo De Casa']\n",
    "    ))\n",
    "\n",
    "# Guardar los cambios\n",
    "conn.commit()\n",
    "\n",
    "# Verificar los datos insertados\n",
    "cursor.execute(\"SELECT * FROM inmuebles LIMIT 5\")\n",
    "resultados = cursor.fetchall()\n",
    "for fila in resultados:\n",
    "    print(fila)\n",
    "\n",
    "# Cerrar la conexión\n",
    "conn.close()"
   ]
  }
 ],
 "metadata": {
  "kernelspec": {
   "display_name": ".venv",
   "language": "python",
   "name": "python3"
  },
  "language_info": {
   "codemirror_mode": {
    "name": "ipython",
    "version": 3
   },
   "file_extension": ".py",
   "mimetype": "text/x-python",
   "name": "python",
   "nbconvert_exporter": "python",
   "pygments_lexer": "ipython3",
   "version": "3.12.3"
  }
 },
 "nbformat": 4,
 "nbformat_minor": 2
}
