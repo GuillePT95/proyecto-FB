{
 "cells": [
  {
   "cell_type": "markdown",
   "metadata": {},
   "source": [
    "& \"c:\\Users\\guill\\proyecto\\.venv\\Scripts\\streamlit.exe\" run app.py\n"
   ]
  },
  {
   "cell_type": "markdown",
   "metadata": {},
   "source": []
  },
  {
   "cell_type": "markdown",
   "metadata": {},
   "source": []
  }
 ],
 "metadata": {
  "language_info": {
   "name": "python"
  }
 },
 "nbformat": 4,
 "nbformat_minor": 2
}
