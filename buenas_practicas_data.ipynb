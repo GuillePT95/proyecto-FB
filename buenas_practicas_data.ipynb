{
 "cells": [
  {
   "cell_type": "markdown",
   "id": "1e12d051-2f62-4cf2-a1c6-8a7da1b85a65",
   "metadata": {},
   "source": [
    "# Clean code"
   ]
  },
  {
   "cell_type": "markdown",
   "id": "1acb7f9a-b75e-40df-9ae3-11a54df99b43",
   "metadata": {},
   "source": [
    "## Styiling\n",
    "La guía completa de styling se puede encontrar en [PEP 8](https://peps.python.org/pep-0008/)\n",
    "- _**snake_case**_: variables, funciones, parámetros y atributos. También nombres de librerías y módulos.\n",
    "- _**PascalCase**_: clases y tipos, aunque algunos tipos los verán en snake_case (`int`, `str`, `datetime`, `np.ndarray`)\n",
    "- _**UPPERCASE**_: constantes\n",
    "- _**camelCase**_: no se utiliza, pero hay excepciones"
   ]
  },
  {
   "cell_type": "code",
   "execution_count": null,
   "id": "fc6e1d1f-694c-4f5f-8491-60e7f3fd9ae9",
   "metadata": {},
   "outputs": [],
   "source": [
    "PI = 3.14\n",
    "\n",
    "class Circulo:\n",
    "\n",
    "    def __init__(self, radio):\n",
    "        self.radio = radio\n",
    "\n",
    "    def calcular_perimetro(self):\n",
    "        return 2*self.radio*PI\n",
    "\n",
    "    def calcular_area(self):\n",
    "        return self.radio*(PI**2)\n",
    "\n",
    "circulo = Circulo(3)\n",
    "print(circulo.calcular_perimetro(), circulo.calcular_area())"
   ]
  },
  {
   "cell_type": "markdown",
   "id": "bf0b6ba6-b688-4f81-9558-d5dcd970e8ac",
   "metadata": {},
   "source": [
    "## Naming\n",
    "Debemos procurar nombrar nuestras variables, funciones y clases de una manera que sea conciso y se nos haga lo más intuitivo posible su uso y lectura."
   ]
  },
  {
   "cell_type": "code",
   "execution_count": null,
   "id": "f69084f2-7768-420e-aef7-31adcf3c16b8",
   "metadata": {},
   "outputs": [],
   "source": [
    "# Evitar nomenclatura genérica como en este ejemplo\n",
    "\n",
    "lista = [\"1984\", \"La metamorfosis\", \"Crimen y castigo\", \"Ilíada\", \"El señor de las moscas\"]\n",
    "\n",
    "for i in lista:\n",
    "    print(i)"
   ]
  },
  {
   "cell_type": "code",
   "execution_count": null,
   "id": "f660231c-7799-4322-b819-2cb8f6071f69",
   "metadata": {},
   "outputs": [],
   "source": [
    "# Mejor\n",
    "\n",
    "libros = [\"1984\", \"La metamorfosis\", \"Crimen y castigo\", \"Ilíada\", \"El señor de las moscas\"]\n",
    "\n",
    "for titulo in libros:\n",
    "    print(titulo)"
   ]
  },
  {
   "cell_type": "code",
   "execution_count": null,
   "id": "75672c46-d180-4a74-a010-24008b763538",
   "metadata": {},
   "outputs": [],
   "source": [
    "# Evitar abreviaturas innecesarias o muy agresivas\n",
    "\n",
    "yr = 2024\n",
    "v = [1.5, -2.15, 0.06] # velocidad, valores\n",
    "w = 800\n",
    "h = 600"
   ]
  },
  {
   "cell_type": "code",
   "execution_count": null,
   "id": "43870a73-f3e1-4e26-8cc9-e6541a0354de",
   "metadata": {},
   "outputs": [],
   "source": [
    "# Mejor\n",
    "\n",
    "year = 2024\n",
    "vec = [1.5, -2.15, 0.06]\n",
    "width = 800\n",
    "height = 600"
   ]
  },
  {
   "cell_type": "code",
   "execution_count": null,
   "id": "26ca279c-cd92-4702-ba57-41dc4b4d38c8",
   "metadata": {},
   "outputs": [],
   "source": [
    "# Evitar nomenclatura excesivamente larga\n",
    "\n",
    "def funcion_lineal_con_un_parametro_de_entrada_y_un_coeficiente(x, m, n):\n",
    "    return m*x+n"
   ]
  },
  {
   "cell_type": "code",
   "execution_count": null,
   "id": "b5696502-df33-42ca-88fd-86c0bc9c410c",
   "metadata": {},
   "outputs": [],
   "source": [
    "# Mejor\n",
    "\n",
    "def funcion_lineal_simple(x, m, n):\n",
    "    return m*x+n"
   ]
  },
  {
   "cell_type": "markdown",
   "id": "d9c0c9b6-a71c-4f13-89f1-38dc4df7de30",
   "metadata": {},
   "source": [
    "### Underscore \"**_**\"\n",
    "\n",
    "Podemos usar underscore \"**\\_**\" para variables temporales que no se utilizarán en otra parte del código."
   ]
  },
  {
   "cell_type": "code",
   "execution_count": null,
   "id": "5d00fd98-0c13-49a1-9e1e-22b246fb1e8a",
   "metadata": {},
   "outputs": [],
   "source": [
    "import random\n",
    "\n",
    "# Sin usar _\n",
    "\n",
    "random_nums = []\n",
    "for i in range(10):\n",
    "    random_nums.append(random.random())\n",
    "\n",
    "# Usando _\n",
    "\n",
    "random_nums = [random.random() for _ in range(10)]\n",
    "random_nums"
   ]
  },
  {
   "cell_type": "markdown",
   "id": "8835d12c-6626-4135-b10e-90ac18ea2bf3",
   "metadata": {},
   "source": [
    "### Imports\n",
    "\n",
    "Debemos evitar sobreescribir las funciones/librerías cuando hacemos **import**."
   ]
  },
  {
   "cell_type": "code",
   "execution_count": null,
   "id": "9c67d69a-192d-4156-ad51-4ff7217a1516",
   "metadata": {},
   "outputs": [],
   "source": [
    "# Hacer buen uso de los namespaces y evitar los wildcard imports\n",
    "\n",
    "def choices():\n",
    "    pass\n",
    "\n",
    "from random import * # Mal\n",
    "import random # Bien\n",
    "import random as r # Bien\n",
    "from random import random, randint # Bien, aunque la función random se puede confundir con el módulo random\n",
    "\n",
    "# Es preferible importar random de manera consistente y acceder a las funciones con random.func()"
   ]
  },
  {
   "cell_type": "code",
   "execution_count": null,
   "id": "3e68b27e-9606-46aa-9540-0ca87aa02f2a",
   "metadata": {},
   "outputs": [],
   "source": [
    "# Evitar sobrescribir funciones nativas de Python\n",
    "\n",
    "max_ = 1000 # Si escribimos max = 1000, no podremos utilizar la función max()"
   ]
  },
  {
   "cell_type": "markdown",
   "id": "d5224c41-ff1b-4983-8e7d-87cdc7de7ce8",
   "metadata": {},
   "source": [
    "### Métodos y Atributos Privados\n",
    "\n",
    "Podemos indicar que ciertos métodos y atributos son \"privados\" usando underscore al principio del nombre.\n",
    "\n",
    "Los métodos y atributos privados son funciones/variables dentro de una clase diseñadas solo para uso interno."
   ]
  },
  {
   "cell_type": "code",
   "execution_count": null,
   "id": "26a708b5-20f0-41ec-9513-e69217efb59b",
   "metadata": {},
   "outputs": [],
   "source": [
    "# Utilizar el underscore al comienzo de métodos y atributos que consideramos privados\n",
    "\n",
    "class Circulo:\n",
    "\n",
    "    def __init__(self, radio):\n",
    "        self.radio = radio\n",
    "\n",
    "    def _calcular_perimetro(self):\n",
    "        return 2*self.radio*PI\n",
    "\n",
    "    def _calcular_area(self):\n",
    "        return PI*self.radio**2\n",
    "\n",
    "    def info(self):\n",
    "        return {\n",
    "            \"perimetro\" : self._calcular_perimetro(),\n",
    "            \"area\" : self._calcular_area()\n",
    "        }\n",
    "\n",
    "circulo = Circulo(3)\n",
    "circulo.info()"
   ]
  },
  {
   "cell_type": "markdown",
   "id": "4bfc3d4f-68fb-4698-8644-d1fd46eab3de",
   "metadata": {},
   "source": [
    "### Comentarios y Docstrings\n",
    "\n",
    "- **Comentarios**: Utilizar comentarios para explicar el porqué, antes que el qué o el cómo.\n",
    "- **Docstrings**:\n",
    "    - El docstring debe empezar con una oración breve que describa el propósito general de la función o clase.\n",
    "    - Después de la descripción breve, incluye detalles sobre parámetros, retornos y excepciones si es necesario."
   ]
  },
  {
   "cell_type": "code",
   "execution_count": null,
   "id": "f85b1e11-934f-46ab-88ae-98297c1682d6",
   "metadata": {},
   "outputs": [],
   "source": [
    "# Evitar comentarios redundantes, como este ejemplo\n",
    "\n",
    "TOKEN = \"abcde1234\"\n",
    "\n",
    "# headers\n",
    "headers = {\n",
    "    \"Authorization\" : f\"Bearer {TOKEN}\"\n",
    "}"
   ]
  },
  {
   "cell_type": "code",
   "execution_count": null,
   "id": "353956a6-b3d2-4494-9e66-a4ef5c2018a7",
   "metadata": {},
   "outputs": [],
   "source": [
    "# Utilizar comentarios para explicar el porqué, antes que el qué o el cómo\n",
    "\n",
    "######## Mal ejemplo\n",
    "# Función para calcular el factorial de un número\n",
    "def factorial_mal(num):\n",
    "    \n",
    "    # Si es 0 o 1, retornamos 1\n",
    "    if num == 0 or num == 1:\n",
    "        return 1\n",
    "\n",
    "    # Si no, calculamos el factorial del número anterior y lo multiplicamos por el número actual\n",
    "    return num * factorial_mal(num-1)\n",
    "\n",
    "######## Buen ejemplo\n",
    "# La necesitamos para el cálculo de combinatorias\n",
    "def factorial_bien(num):\n",
    "    if num == 0 or num == 1:\n",
    "        return 1\n",
    "\n",
    "    # Lógica: 5! == 5*4*3*2*1 == 5*4!\n",
    "    return num * factorial_bien(num-1)"
   ]
  },
  {
   "cell_type": "markdown",
   "id": "a8318930-e954-4d4b-b7e3-99e40c7bae83",
   "metadata": {},
   "source": [
    "### Calcula el factorial de un número.\n",
    "#### Parámetros:\n",
    "- num: un número entero para el calculo del factorial\n",
    "#### Retorno:\n",
    "- int: el resultado del cálculo de factorial"
   ]
  },
  {
   "cell_type": "code",
   "execution_count": null,
   "id": "d6b874e8-f4e8-4f8d-975e-dac4753bdfc6",
   "metadata": {},
   "outputs": [],
   "source": [
    "# Utilizar docstrings para documentar funciones y clases es una buena manera de mejorar la inteligibilidad de nuestro código\n",
    "\n",
    "# La necesitamos para el cálculo de combinatorias\n",
    "def factorial(num): # ''' texto '''\n",
    "    \"\"\"\n",
    "    # Calcula el factorial de un número.\n",
    "    ### Parámetros:\n",
    "    - num: un número entero para el calculo del factorial\n",
    "    ### Retorno:\n",
    "    - int: el resultado del cálculo de factorial\n",
    "    \"\"\"\n",
    "    if num == 0 or num == 1:\n",
    "        return 1\n",
    "\n",
    "    # Lógica: 5! == 5*4*3*2*1 == 5*4!\n",
    "    return num * factorial(num-1)"
   ]
  },
  {
   "cell_type": "code",
   "execution_count": null,
   "id": "2ebb2828-083e-459c-83dd-f13559962fbd",
   "metadata": {},
   "outputs": [],
   "source": [
    "class Animal:\n",
    "    \"\"\"\n",
    "    Esta clase representa un animal. Está pensada para crear subclases de animales concretos, no para instanciarla directametne.\n",
    "    \"\"\"\n",
    "\n",
    "    def __init__(self, nombre):\n",
    "        \"\"\"\n",
    "        El constructor de todos los animales recibe una string por el parámetro nombre, que tiene que ser el nombre del animal.\n",
    "        \"\"\"\n",
    "        self.nombre = nombre"
   ]
  },
  {
   "cell_type": "markdown",
   "id": "ad0359aa-6d06-42e6-89df-6c523e37daaa",
   "metadata": {},
   "source": [
    "### Positional vs keywords arguements"
   ]
  },
  {
   "cell_type": "code",
   "execution_count": null,
   "id": "ba1568ca-ac7b-4c08-8553-4815c90159d9",
   "metadata": {},
   "outputs": [],
   "source": [
    "# Función normal\n",
    "\n",
    "def suma(a, b):\n",
    "    return a+b\n",
    "\n",
    "print(suma(2,3))\n",
    "print(suma(2, b=3))\n",
    "print(suma(a=2, b=3))\n",
    "print(suma(b=2, a=3))"
   ]
  },
  {
   "cell_type": "code",
   "execution_count": null,
   "id": "7d668ae6-8eff-4df2-b902-1fb0a2e24ae4",
   "metadata": {},
   "outputs": [],
   "source": [
    "# Todos los parámetros deben ser keyword arguments\n",
    "def suma(*,a, b):\n",
    "    return a+b\n",
    "\n",
    "print(suma(2,3))"
   ]
  },
  {
   "cell_type": "code",
   "execution_count": null,
   "id": "3c6c86b6-913d-470c-934b-df9feedecd84",
   "metadata": {},
   "outputs": [],
   "source": [
    "print(suma(2, b=3))"
   ]
  },
  {
   "cell_type": "code",
   "execution_count": null,
   "id": "6f8a01f0-0e66-40a3-adae-6a7fd8652273",
   "metadata": {},
   "outputs": [],
   "source": [
    "print(suma(a=2, b=3))\n",
    "print(suma(a=3, b=2))"
   ]
  },
  {
   "cell_type": "code",
   "execution_count": null,
   "id": "c56b03cf-e001-4871-86b3-a87d88dcad4f",
   "metadata": {},
   "outputs": [],
   "source": [
    "# Solo b debe ser keyword arguement\n",
    "def suma(a, *, b):\n",
    "    return a+b\n",
    "\n",
    "print(suma(2,3))"
   ]
  },
  {
   "cell_type": "code",
   "execution_count": null,
   "id": "0d26a717-3bbb-4517-a822-30e3622361ee",
   "metadata": {},
   "outputs": [],
   "source": [
    "print(suma(2, b=3))"
   ]
  },
  {
   "cell_type": "code",
   "execution_count": null,
   "id": "d34883e5-330c-4b8a-bee4-6fb5343fa41d",
   "metadata": {},
   "outputs": [],
   "source": [
    "print(suma(a=2, b=3))"
   ]
  },
  {
   "cell_type": "code",
   "execution_count": null,
   "id": "acc0edb5-6d48-4da4-80be-6d1182391e39",
   "metadata": {},
   "outputs": [],
   "source": [
    "# Todos los parámetros deben ser positional arguements\n",
    "def suma(a, b, /):\n",
    "    return a+b\n",
    "\n",
    "print(suma(2,3))"
   ]
  },
  {
   "cell_type": "code",
   "execution_count": null,
   "id": "f8908687-a84d-410d-8592-3bb1656c063e",
   "metadata": {},
   "outputs": [],
   "source": [
    "print(suma(2, b=3))"
   ]
  },
  {
   "cell_type": "code",
   "execution_count": null,
   "id": "b96c5270-56fd-4c59-a2e3-d1664020a8ae",
   "metadata": {},
   "outputs": [],
   "source": [
    "print(suma(a=2, b=3))"
   ]
  },
  {
   "cell_type": "code",
   "execution_count": null,
   "id": "0515a6ad-2cd3-4ded-9b7c-f05e8a41db59",
   "metadata": {},
   "outputs": [],
   "source": [
    "# Solo a debe ser positional arguement\n",
    "def suma(a, /, b):\n",
    "    return a+b\n",
    "\n",
    "print(suma(2,3))"
   ]
  },
  {
   "cell_type": "code",
   "execution_count": null,
   "id": "af45ada9-acb9-48da-b8f5-83946c7337d2",
   "metadata": {},
   "outputs": [],
   "source": [
    "print(suma(2, b=3))"
   ]
  },
  {
   "cell_type": "code",
   "execution_count": null,
   "id": "eb55791f-be2f-4cff-bd86-508909186096",
   "metadata": {},
   "outputs": [],
   "source": [
    "print(suma(a=2, b=3))"
   ]
  },
  {
   "cell_type": "code",
   "execution_count": null,
   "id": "d7e8dec2-933e-4623-ac5b-d6897331c4d9",
   "metadata": {},
   "outputs": [],
   "source": [
    "# Podemos desempaquetar un iterable para utilizarlo en una función con positional arguements\n",
    "\n",
    "def suma(a, b):\n",
    "    return a+b\n",
    "\n",
    "\n",
    "print(suma(2,3))"
   ]
  },
  {
   "cell_type": "code",
   "execution_count": null,
   "id": "bf1f55ac-dfcf-453f-9e78-7a538a35e67c",
   "metadata": {},
   "outputs": [],
   "source": [
    "valores = [2,3]\n",
    "print(suma(*valores))"
   ]
  },
  {
   "cell_type": "code",
   "execution_count": null,
   "id": "c02f7cb8-4a2e-4383-99b4-3fae4edbe06a",
   "metadata": {},
   "outputs": [],
   "source": [
    "# También podemos desempaquetar fuera de funciones\n",
    "valores = [2,3]\n",
    "val1, val2 = valores\n",
    "print(val1, val2)\n",
    "\n",
    "valores = [2,3,4,5,6]\n",
    "first_val, *other_vals, last_val = valores\n",
    "print(first_val, other_vals, last_val)"
   ]
  },
  {
   "cell_type": "code",
   "execution_count": null,
   "id": "bcbc41fc-6bfd-4a46-ab36-ad64880699ab",
   "metadata": {},
   "outputs": [],
   "source": [
    "# Podemos desempaquetar un diccionario para utilizarlo en una función con keyword arguements\n",
    "def suma(a, b):\n",
    "    return a+b\n",
    "\n",
    "\n",
    "print(suma(2,3))\n",
    "\n",
    "valores = {\n",
    "    \"a\" : 2,\n",
    "    \"b\" : 3\n",
    "}\n",
    "\n",
    "print(suma(**valores))"
   ]
  },
  {
   "cell_type": "code",
   "execution_count": null,
   "id": "90b18855-cb82-452e-b914-d5c221df5e86",
   "metadata": {},
   "outputs": [],
   "source": [
    "# Podemos utilizar *args para recibir una cantidad indefinida de argumentos posicionales\n",
    "\n",
    "def suma(*args):\n",
    "    val = 0\n",
    "    for num in args:\n",
    "        val += num\n",
    "    return val\n",
    "\n",
    "\n",
    "print(suma(2,3))\n",
    "print(suma(2,3,4,5))\n",
    "print(suma(2,3,4,5,6,7,8,9,10))"
   ]
  },
  {
   "cell_type": "code",
   "execution_count": null,
   "id": "b6cb2eda-2e0e-485e-8f24-81be5e6ff6a1",
   "metadata": {},
   "outputs": [],
   "source": [
    "# Podemos utilizar **kwargs para recibir una cantidad indefinida de argumentos posicionales\n",
    "\n",
    "def suma(**kwargs):\n",
    "    val = 0\n",
    "    keys = []\n",
    "    for k, v in kwargs.items():\n",
    "        val += v\n",
    "        keys.append(k)\n",
    "    return f\"{' + '.join(keys)} = {val}\"\n",
    "\n",
    "\n",
    "print(suma(a=2,b=3))\n",
    "print(suma(a=2,b=3,c=4,d=5))\n",
    "print(suma(a=2,b=3,c=4,d=5,e=6,f=7,g=8,h=9,i=10))"
   ]
  },
  {
   "cell_type": "code",
   "execution_count": null,
   "id": "0bdfdd74-fe9d-4b00-ba18-17111971cb57",
   "metadata": {},
   "outputs": [],
   "source": [
    "# Podemos utilizar tanto *args como **kwargs para recibir cualquier tipo de argumentos\n",
    "\n",
    "def suma(*args, **kwargs):\n",
    "    val = 0\n",
    "    keys = []\n",
    "    for num in args:\n",
    "        val += num\n",
    "        keys.append(str(val))\n",
    "    for k, v in kwargs.items():\n",
    "        val += v\n",
    "        keys.append(k)\n",
    "    return f\"{' + '.join(keys)} = {val}\"\n",
    "\n",
    "\n",
    "print(suma(2,a=3))\n",
    "print(suma(2,3,a=4,b=5))\n",
    "print(suma(2,3,4,a=5,b=6,c=7,d=8,e=9,f=10))"
   ]
  },
  {
   "cell_type": "code",
   "execution_count": null,
   "id": "8bacf196-92f6-414d-8986-29e2351d9a3b",
   "metadata": {},
   "outputs": [],
   "source": [
    "valores_args = [1,2,3]\n",
    "valores_kwargs = {\n",
    "    \"a\" : 4,\n",
    "    \"b\" : 5\n",
    "}\n",
    "\n",
    "print(suma(*valores_args, **valores_kwargs))"
   ]
  },
  {
   "cell_type": "markdown",
   "id": "43e3a665-eed8-4dd6-a928-b04498ebc3cc",
   "metadata": {
    "jp-MarkdownHeadingCollapsed": true
   },
   "source": [
    "## Estructura y organización\n",
    "En proyectos grandes es buena práctica estructurar los módulos por carpetas. En lugar de tener la siguiente estructura:\n",
    "\n",
    "```\n",
    " |- app.py\n",
    " |- intro.py\n",
    " |- eda.py\n",
    " |- ml.py\n",
    " |- about.py\n",
    " |- data.csv\n",
    " |- .gitignore\n",
    " |- model.pkl\n",
    " |- .env\n",
    " |- eda.ipynb\n",
    " |- extraction.ipynb\n",
    " |- training.ipynb\n",
    "```\n",
    "\n",
    "Podemos tener la siguiente:\n",
    "\n",
    "```\n",
    " |- lib\n",
    "   |- __init__.py\n",
    "   |- pages\n",
    "     |- __init__.py\n",
    "     |- intro.py\n",
    "     |- eda.py\n",
    "     |- ml.py\n",
    "     |- about.py\n",
    " |- bin\n",
    "   |- data.csv\n",
    "   |- model.pkl\n",
    " |- notebooks\n",
    "   |- eda.ipynb\n",
    "   |- extraction.ipynb\n",
    "   |- training.ipynb\n",
    " |- app.py\n",
    " |- .gitignore\n",
    " |- .env\n",
    "```\n",
    "\n",
    "- En `lib` suele ir prácticamente todo el código, idealmente organizado por módulos. En este caso solo está el módulo pages.\n",
    "- En `bin` suelen ir los binarios necesarios para el proyecto. Aquí también pueden ir los csv, aunque también está la opción de crear otra carpeta aparte que se llame `data`.\n",
    "- Los ficheros de configuración y el entrypoint (`app.py` en este caso) normalmente van a nivel raiz de la estructura de un proyecto.\n",
    "- Los notebooks es buena idea tenerlos también en una carpeta aparte.\n",
    "\n",
    "El `__init__.py` se ejecuta cuando importamos el módulo (carpeta) en el que se encuentra:\n",
    "\n",
    "- **`lib/pages/__init__.py`**\n",
    "\n",
    "```python\n",
    "from . import intro, eda, ml, about\n",
    "\n",
    "print(\"Importes de pages correctos!\")\n",
    "```\n",
    "\n",
    "- **`lib/__init__.py`**\n",
    "\n",
    "```python\n",
    "from . import pages # Cuando hacemos este import, obtenemos \"Importes de pages correctos!\" en la consola\n",
    "\n",
    "print(\"Importes de lib correctos!\")\n",
    "```\n",
    "\n",
    "- **`app.py`**\n",
    "\n",
    "```python\n",
    "from lib.pages import intro, eda, ml, about # Cuando hacemos este import, obtenemos \"Importes de lib correctos!\" en la consola\n",
    "```"
   ]
  },
  {
   "cell_type": "markdown",
   "id": "afda66f0-61b0-4861-b19e-35a0df13d81d",
   "metadata": {},
   "source": [
    "## OOP\n",
    "### Dunder methods\n",
    "- Cuando trabajamos con objetos, es muy buena práctica incorporar algunos de los métodos dunder que ofrece Python. Los métodos dunder son todos aquellos métodos que empiezan y terminan por doble underscore.\n",
    "- Estos métodos nos ayudan a integrar nuestras clases en el ecosistema de Python, permitiendo que se utilicen funciones y sintaxis nativa sobre éstas.\n",
    "- Cada método dunder tiene un rol muy específico y debemos seguir la implementación de manera correcta.\n",
    "- Es muy importante entender los métodos dunder, más allá de si los terminamos usando o no, ya que nos ofrecen una perspectiva de más bajo nivel sobre el funcionamiento de Python, donde absolutamente todo son objetos (incluso las funciones).\n",
    "\n",
    "**A continuación algunos de los métodos dunder más importantes.**\n",
    "\n",
    "|Método|Descripción|\n",
    "|-|-|\n",
    "|`__new__()`| Se ejecuta a la hora de instanciar el objeto, antes de `__init__()`, y retorna la instancia en sí. Se utiliza para modificar la lógica de instanciación. |\n",
    "|`__init__()`| Se ejecuta justo después de crear la instancia con `__new__()`. Aquí va nuestra lógica de inicialización de los atributos del objeto. |\n",
    "|`__repr__()`| Permite definir un formato en forma de str personalizado que aparezca en pantalla cuando, por ejemplo, hacemos un print del objeto.|\n",
    "|`__str__()`| Especifica la lógica que se debe ejecutar al castear el objeto a str usando `str()`. |\n",
    "|`__len__()`| Especifica la lógica al utilizar la función `len()` sobre el objeto. |\n",
    "|`__iter__()`| Define la lógica que se ejecuta al iterar sobre el objeto. Debe retornar un iterador o utilizar `yield`. |\n",
    "|`__next__()`| Define la lógica que se ejecuta al utilizar la función `next()` sobre el objeto, convirtiéndolo así en un iterador. |\n",
    "|`__getitem__()`| Permite consultar el objeto como si fuera un diccionario. |\n",
    "|`__setitem__()`| Permite asignar valores al objeto como si fuera un diccionario. |\n",
    "|`__delitem__()`| Permite utilizar `del` con la sintaxis de indexado de diccionario. |\n",
    "|`__index__()`| Define la lógica de indexing, slicing y stride. |\n",
    "|`__add__()`| Especifica la lógica al utilizar el operador `+`. Véase también `__sub__()`, `__mul__()`, `__truediv__()`, `__floordiv__()`, `__mod__()`, `__pow__()` y `__matmul__()`.|\n",
    "|`__iadd__()`| Especifica la lógica al utilizar el operador `+=`. Véase también `__isub__()`, `__imul__()`, `__itruediv__()`, `__ifloordiv__()`, `__imod__()` y `__ipow__()`.|\n",
    "|`__eq__()`| Especifica la lógica al utilizar el operador `==`. Véase también `__ne__()`, `__gt__()`, `__ge__()`, `__lt__()` y `__le__()`.|\n",
    "|`__and__()`| Especifica la lógica al utilizar el operador `&`. Véase también `__or__()`, `__xor__()`, `__lshift__()`, `__rshift__()` e `__invert__()`.|\n",
    "|`__call__()`| Permite llamar una instancia del objeto como si fuera una función. |\n",
    "|`__contains__()`| Permite utilizar la keyword `in` para consultar la presencia de un elemento. |\n",
    "|`__enter__()`| Permite utilizar la instancia como context manager. Se ejecuta al entrar en el contexto y `__exit__()` debe estar implementado. |\n",
    "|`__exit__()`| Permite utilizar la instancia como context manager. Se ejecuta al salir del contexto y `__enter__()` debe estar implementado.|\n",
    "|`__bool__()`| Define el comportamiento al castear el objeto a booleano con `bool()`. |"
   ]
  },
  {
   "attachments": {},
   "cell_type": "markdown",
   "id": "413b97d1-9a31-4606-94ec-865e72d12378",
   "metadata": {},
   "source": [
    "## Tipado de datos\n",
    "### Tipado de primitivos"
   ]
  },
  {
   "cell_type": "code",
   "execution_count": null,
   "id": "1ee7d432-9cf2-4df1-8f38-3e0989a2c47e",
   "metadata": {},
   "outputs": [],
   "source": [
    "# Sin tipado de datos\n",
    "\n",
    "nombre = \"José\"\n",
    "edad = 28\n",
    "balance = 3293.23\n",
    "\n",
    "print(type(nombre), type(edad), type(balance))"
   ]
  },
  {
   "cell_type": "code",
   "execution_count": null,
   "id": "cb6ef84c-e12e-4dd1-a047-1305da0294f4",
   "metadata": {},
   "outputs": [],
   "source": [
    "# Con tipado de datos\n",
    "\n",
    "nombre: str = \"José\"\n",
    "edad: int = 28\n",
    "balance: float = 3293.23\n",
    "\n",
    "print(type(nombre), type(edad), type(balance))"
   ]
  },
  {
   "cell_type": "code",
   "execution_count": null,
   "id": "5a518e96-b251-4c16-9727-f8ebaba241dc",
   "metadata": {},
   "outputs": [],
   "source": [
    "# El tipado no se impone\n",
    "\n",
    "nombre: float = \"José\"\n",
    "edad: float = 28\n",
    "balance: float = 3293.23\n",
    "\n",
    "print(type(nombre), type(edad), type(balance))"
   ]
  },
  {
   "cell_type": "markdown",
   "id": "6cf5fea0-ff04-42fb-89f3-62eaf563de3e",
   "metadata": {},
   "source": [
    "### Tipado de estructuras complejas"
   ]
  },
  {
   "cell_type": "code",
   "execution_count": null,
   "id": "d46c57b7-fad2-4f40-9664-82bc9e49a866",
   "metadata": {},
   "outputs": [],
   "source": [
    "vector: list[float] = [1.5, 1.77, -0.13]"
   ]
  },
  {
   "cell_type": "code",
   "execution_count": null,
   "id": "b3751e15-5346-4140-810d-a66f16daeac4",
   "metadata": {},
   "outputs": [],
   "source": [
    "persona: dict[str, str | float | int] = {\n",
    "    \"nombre\" : \"José\",\n",
    "    \"edad\" : 28,\n",
    "    \"balance\" : 3293.23\n",
    "}"
   ]
  },
  {
   "cell_type": "code",
   "execution_count": null,
   "id": "4a612c1c-d8b9-4bdb-9e5d-0ad3c74d439f",
   "metadata": {},
   "outputs": [],
   "source": [
    "# Tupla de integers de longitud desconocida\n",
    "\n",
    "tupla: tuple[int, ...] = 1, 2, 3, 4\n",
    "\n",
    "\n",
    "# Tupla de tres integers\n",
    "\n",
    "tupla_tres_elementos: tuple[int, int, int] = 2, 3, 9\n",
    "\n",
    "\n",
    "# Tupla de cuatro elementos diferentes\n",
    "\n",
    "tupla_cuatro_elementos_diferentes: tuple[str, int, float, list[str]] = \"José\", 28, 3293.23, [\"hola\", \"mundo\"]"
   ]
  },
  {
   "cell_type": "code",
   "execution_count": null,
   "id": "a7fab6e4-2044-4bce-b974-cafc1456deea",
   "metadata": {},
   "outputs": [],
   "source": [
    "print(tupla_cuatro_elementos_diferentes)"
   ]
  },
  {
   "cell_type": "markdown",
   "id": "4987ecb4-d395-4fd7-83e4-a7cf6acf9692",
   "metadata": {},
   "source": [
    "### Aliases"
   ]
  },
  {
   "cell_type": "code",
   "execution_count": null,
   "id": "28b4b5d7-0f8a-414e-864c-3acb1b1b697f",
   "metadata": {},
   "outputs": [],
   "source": [
    "# Útil para especificar unidades de medida...\n",
    "\n",
    "Year = int\n",
    "Euro = float\n",
    "\n",
    "nombre: str = \"José\"\n",
    "edad: Year = 28\n",
    "balance: Euro = 3293.23\n",
    "\n",
    "print(type(nombre), type(edad), type(balance))"
   ]
  },
  {
   "cell_type": "code",
   "execution_count": null,
   "id": "f8bd84d2-03ad-4eef-9e11-eb67fe0b3473",
   "metadata": {},
   "outputs": [],
   "source": [
    "# ...contextualizar las variables...\n",
    "\n",
    "Vector = list[float]\n",
    "\n",
    "vec: Vector = [1.5, 1.77, -0.13]\n",
    "\n",
    "print(type(vec))"
   ]
  },
  {
   "cell_type": "code",
   "execution_count": null,
   "id": "407042fa-6a52-4adb-ac65-c4f8d68bce7f",
   "metadata": {},
   "outputs": [],
   "source": [
    "# ...o simplificar estructuras complejas\n",
    "\n",
    "Vector = list[float]\n",
    "Token = str\n",
    "Embedding = tuple[Token, Vector]\n",
    "Language = list[Embedding]"
   ]
  },
  {
   "cell_type": "markdown",
   "id": "e7acd2f8-5e53-44c0-8c6e-7b618cfe825d",
   "metadata": {},
   "source": [
    "### Funciones"
   ]
  },
  {
   "cell_type": "code",
   "execution_count": null,
   "id": "cd5074b8-774b-4f36-b84d-8ffbf96c3e01",
   "metadata": {},
   "outputs": [],
   "source": [
    "# Sin tipado de datos\n",
    "\n",
    "def suma(a, b):\n",
    "    return a+b"
   ]
  },
  {
   "cell_type": "code",
   "execution_count": null,
   "id": "cd99a646-3486-45a7-8f6e-fb62e1df0be7",
   "metadata": {},
   "outputs": [],
   "source": [
    "# Con tipado de datos\n",
    "\n",
    "def suma(a: int | float, b: int | float) -> int | float:\n",
    "    return a+b"
   ]
  },
  {
   "cell_type": "markdown",
   "id": "5e548f2e-c2c9-48f0-9113-bfb12192a334",
   "metadata": {},
   "source": [
    "### Módulo `typing`"
   ]
  },
  {
   "cell_type": "code",
   "execution_count": null,
   "id": "8ca60ccc-b1ac-49fe-bbb8-341ff6095f40",
   "metadata": {},
   "outputs": [],
   "source": [
    "from typing import Optional\n",
    "\n",
    "# El parámetro c es opcional (None por defecto)\n",
    "\n",
    "def suma(a: int | float, b: int | float, c: Optional[int | float] = None) -> int | float:\n",
    "    return a+b if c is None else a+b+c"
   ]
  },
  {
   "cell_type": "code",
   "execution_count": null,
   "id": "2de13040-49ee-4d5f-b038-8ece5cc11877",
   "metadata": {},
   "outputs": [],
   "source": [
    "# Podemos utilizar docstrings en nuestras funciones...\n",
    "\n",
    "def suma(a: int | float, b: int | float) -> int | float:\n",
    "    \"\"\"\n",
    "    ## Parámetros:\n",
    "    - a: primer número de la suma.\n",
    "    - b: segundo número de la suma.\n",
    "    ## Retorno:\n",
    "    - La suma de a y b\n",
    "    \"\"\"\n",
    "    return a+b"
   ]
  },
  {
   "cell_type": "code",
   "execution_count": null,
   "id": "1a91f9d7-16f7-4611-b3ab-d2ac766971fa",
   "metadata": {},
   "outputs": [],
   "source": [
    "from typing import Annotated\n",
    "\n",
    "# ...o podemos documentar nuestros parámetros y retornos utilizando Annotated type\n",
    "\n",
    "def suma(\n",
    "    a: Annotated[int | float, \"Primer número de la suma\"],\n",
    "    b: Annotated[int | float, \"Segundo número de la suma\"]\n",
    ") -> Annotated[int | float, \"La suma de a y b\"]:\n",
    "    \n",
    "    return a+b"
   ]
  },
  {
   "cell_type": "code",
   "execution_count": null,
   "id": "7183fc73-fb51-48c6-bcc8-ac37c57f04c0",
   "metadata": {},
   "outputs": [],
   "source": [
    "from typing import Union\n",
    "\n",
    "# Podemos utilizar Union type para agrupar varios tipos en uno\n",
    "\n",
    "Number = Union[int, float] # Optional = Union[type | None]\n",
    "\n",
    "def suma(a: Number, b: Number) -> Number:\n",
    "    return a+b"
   ]
  },
  {
   "cell_type": "code",
   "execution_count": null,
   "id": "0953cdfb-5f9e-4f1d-a3a3-9569068587a7",
   "metadata": {},
   "outputs": [],
   "source": [
    "from typing import Iterable, Collection\n",
    "\n",
    "# Podemos declarar variables como Iterable type cuando nos da igual el tipo de dato, solo nos importa que podamos iterar sobre él\n",
    "\n",
    "def suma(nums: Iterable[Number]) -> Number:\n",
    "    sum_ = 0\n",
    "    for num in nums:\n",
    "        sum_ += num\n",
    "    return sum_\n",
    "\n",
    "\n",
    "# También podemos usar Collection type cuando necesitamos colecciones. Un dato se considera colección cuando podemos utilizar la keyword `in`\n",
    "\n",
    "def suma(nums: Collection[Number]) -> Number:\n",
    "    sum_ = 0\n",
    "    for num in nums:\n",
    "        sum_ += num\n",
    "    return sum_"
   ]
  },
  {
   "cell_type": "code",
   "execution_count": null,
   "id": "b0512341-7cc8-487f-98dd-dba3bf44c49e",
   "metadata": {},
   "outputs": [],
   "source": [
    "from typing import Iterator\n",
    "\n",
    "# En Python existen objetos iteradores como range(), enumerate() o zip()\n",
    "# Hay que especificar el tipo de valores que arrojan al iterar sobre ellos\n",
    "\n",
    "def get_range() -> Iterator[int]:\n",
    "    return range(10)"
   ]
  },
  {
   "cell_type": "code",
   "execution_count": null,
   "id": "faeca0dd-1b63-4788-b748-18f1bb6203e0",
   "metadata": {},
   "outputs": [],
   "source": [
    "from typing import Any\n",
    "\n",
    "# Cuando no sabemos qué tipo de datos vamos a recibir, y además nos da igual, podemos usar Any type\n",
    "\n",
    "def parse_request(response: dict[str, Any]) -> list[tuple[str, Any]]:\n",
    "    ..."
   ]
  },
  {
   "cell_type": "code",
   "execution_count": null,
   "id": "51a0cfab-e0db-436a-9fbd-94bf5a59a9b9",
   "metadata": {},
   "outputs": [],
   "source": [
    "from typing import Callable\n",
    "\n",
    "# Cuando recibimos funciones (o un objeto que se pueda llamar) como parámetros, o los retornamos, podemos marcarlos como Callable type\n",
    "# Se especifica con una lista los tipos de los parámetros en orden, y con un tipo el retorno: Callable[[arg1, arg2, ...], return]\n",
    "\n",
    "def generador_lineas(m: Number, n: Number) -> Callable[[Number], Number]:\n",
    "    # Sí, podemos definir funciones dentro de funciones\n",
    "    def func(x: Number) -> Number:\n",
    "        return m*x + n\n",
    "\n",
    "    return func"
   ]
  },
  {
   "cell_type": "code",
   "execution_count": null,
   "id": "5cb27a4a-cd49-48a5-9810-aedc7ec960df",
   "metadata": {},
   "outputs": [],
   "source": [
    "generador_lineas(3,4)(5)"
   ]
  },
  {
   "cell_type": "code",
   "execution_count": null,
   "id": "2e65a442-735f-4d9c-a578-081a34186e42",
   "metadata": {},
   "outputs": [],
   "source": [
    "from typing import TypeVar\n",
    "\n",
    "# Podemos especificar generics, es decir, tipos de datos que pueden ser cualquier cosa. Un aspecto clave que diferencia los generics de algo\n",
    "# como Any, es que existe una coherencia entre como se manejan las variables\n",
    "\n",
    "\n",
    "# Usando generics sabemos que si pasamos como argumento [1,2,3], obtendremos o un int o un None\n",
    "# Si pasamos como argumento [\"hola\", \"mundo\"], obtendremos un str o un None\n",
    "\n",
    "T = TypeVar(\"T\")\n",
    "\n",
    "def primer_elemento(lst: list[T]) -> Optional[T]:\n",
    "    return lst[0] if len(lst) > 0 else None\n",
    "\n",
    "\n",
    "# Usando Any si pasamos como argumento [1,2,3] O [1, \"hola\", 1.6], no sabemos el tipo de dato que obtendremos, ya que es Any y no guarda relación con los params\n",
    "\n",
    "def primer_elemento(lst: list[Any]) -> Any:\n",
    "    return lst[0] if len(lst) > 0 else None"
   ]
  },
  {
   "cell_type": "code",
   "execution_count": null,
   "id": "7b056ffa-1af2-4246-aea1-d9eed33b252c",
   "metadata": {},
   "outputs": [],
   "source": [
    "from typing import Literal\n",
    "\n",
    "# Podemos utilizar Literal para especificar que el valor del parámetro debe ser exactamente alguno de los que aparecen\n",
    "\n",
    "def closest_vectors(distance: Literal['euclidean', 'manhattan', 'cosine']) -> tuple[Vector, Vector]:\n",
    "    ..."
   ]
  },
  {
   "cell_type": "code",
   "execution_count": null,
   "id": "d62caed3-0622-47b6-9035-ad03dbde5ff3",
   "metadata": {},
   "outputs": [],
   "source": [
    "from typing import NoReturn\n",
    "\n",
    "# Podemos utilizar NoReturn cuando una función no retorna nada. Es diferente a None, pues esperamos que la función siempre arroje algún error\n",
    "# que pare la ejecución\n",
    "\n",
    "def stop_execution() -> NoReturn:\n",
    "    raise Exception(\"This function never returns\")"
   ]
  },
  {
   "cell_type": "code",
   "execution_count": null,
   "id": "6c909452-ac5b-491b-9bbb-970423b3aa13",
   "metadata": {},
   "outputs": [],
   "source": [
    "from typing import NewType\n",
    "\n",
    "# Similar al aliasing, solo que los static type checkers entienden estos nuevos tipos como diferentes de los originales, por lo que te avisan\n",
    "\n",
    "Vector = NewType(\"Vector\", list[float])\n",
    "vec: Vector = Vector([.1,.2,.3])\n",
    "\n",
    "print(type(vec))"
   ]
  },
  {
   "cell_type": "markdown",
   "id": "8d5163b3-49d0-43d3-9376-972e44720a91",
   "metadata": {},
   "source": [
    "### Tipado en clases"
   ]
  },
  {
   "cell_type": "code",
   "execution_count": null,
   "id": "988bd3d8-6e62-41b5-9e50-55311fa56150",
   "metadata": {},
   "outputs": [],
   "source": [
    "# Las clases pueden ser utilizados como tipos\n",
    "\n",
    "class Animal:\n",
    "    def __init__(self, nombre: str) -> None:\n",
    "        self.nombre = nombre\n",
    "\n",
    "class Persona:\n",
    "    def __init__(self, nombre: str, edad: int, mascotas: list[Animal]) -> None:\n",
    "        self.nombre = nombre\n",
    "        self.edad = edad\n",
    "        self.mascotas = mascotas"
   ]
  },
  {
   "cell_type": "code",
   "execution_count": null,
   "id": "3710806a-2e69-4032-99d4-0285877e6a27",
   "metadata": {},
   "outputs": [],
   "source": [
    "from typing import Self\n",
    "\n",
    "# Podemos también tipar el parámetro self con el Self type\n",
    "\n",
    "class Animal:\n",
    "    def __init__(self: Self, nombre: str) -> None:\n",
    "        self.nombre = nombre\n",
    "\n",
    "class Persona:\n",
    "    def __init__(self: Self, nombre: str, edad: int, mascotas: list[Animal]) -> None:\n",
    "        self.nombre = nombre\n",
    "        self.edad = edad\n",
    "        self.mascotas = mascotas"
   ]
  },
  {
   "cell_type": "code",
   "execution_count": null,
   "id": "bf64493e-b66e-41ec-9433-42d268e376b0",
   "metadata": {},
   "outputs": [],
   "source": [
    "import pandas as pd\n",
    "import plotly.express as px\n",
    "import plotly.graph_objects as go\n",
    "\n",
    "# Muchas librerías traen clases que podemos utilizar para el tipado\n",
    "\n",
    "def plot_hist(df: pd.DataFrame, col: str) -> go.Figure:\n",
    "    fig = px.histogram(df, x=col)\n",
    "    mean = df[col].mean()\n",
    "    \n",
    "    fig.add_trace(go.Scatter(\n",
    "    x=[mean, mean],\n",
    "    y=[0, df[col].count()],\n",
    "    mode=\"lines\",\n",
    "    line=dict(color=\"red\", dash=\"dash\"),\n",
    "    name=\"Mean\"))\n",
    "\n",
    "    return fig"
   ]
  },
  {
   "cell_type": "markdown",
   "id": "cc7456b2-b4b3-4cf1-a88f-ff7d39cd3e86",
   "metadata": {},
   "source": [
    "## Programación funcional\n",
    "### Closures"
   ]
  },
  {
   "cell_type": "code",
   "execution_count": null,
   "id": "4470a3fb-d295-4ff8-bb8d-9294666b0c64",
   "metadata": {},
   "outputs": [],
   "source": [
    "def generador_ecuaciones_cuadraticas(a, b, c):\n",
    "    def ecuacion(x):\n",
    "        return a*x**2 + b*x + c\n",
    "\n",
    "    return ecuacion\n",
    "\n",
    "cuadratica = generador_ecuaciones_cuadraticas(2,3,4)\n",
    "cuadratica"
   ]
  },
  {
   "cell_type": "code",
   "execution_count": null,
   "id": "4529ea35-17bc-48b4-9c0b-ac1f3c9e1b6d",
   "metadata": {},
   "outputs": [],
   "source": [
    "cuadratica(x=7)"
   ]
  },
  {
   "cell_type": "markdown",
   "id": "f6847ef9-1f29-4559-a411-131baf8cb347",
   "metadata": {},
   "source": [
    "### Currying"
   ]
  },
  {
   "cell_type": "code",
   "execution_count": null,
   "id": "6e85b31e-4184-495b-901a-0515c66ecec8",
   "metadata": {},
   "outputs": [],
   "source": [
    "def suma(a,b,c):\n",
    "    return a+b+c\n",
    "\n",
    "suma(2,3,4)"
   ]
  },
  {
   "cell_type": "code",
   "execution_count": null,
   "id": "b54fd5d2-6b11-4cec-a8d0-ffde315d4eee",
   "metadata": {},
   "outputs": [],
   "source": [
    "def suma(a):\n",
    "    def suma_b(b):\n",
    "        def suma_c(c):\n",
    "            return a+b+c\n",
    "        return suma_c\n",
    "    return suma_b\n",
    "\n",
    "suma(2)(3)(4)"
   ]
  },
  {
   "cell_type": "code",
   "execution_count": null,
   "id": "0ad023f0-1a9b-4114-8978-601fd83c64bc",
   "metadata": {},
   "outputs": [],
   "source": [
    "suma_parcial = suma(2)(4)\n",
    "suma_final = suma_parcial(5)\n",
    "suma_final"
   ]
  },
  {
   "cell_type": "markdown",
   "id": "3406b37b-e72c-44dc-943c-e4be0875723e",
   "metadata": {},
   "source": [
    "### Recursividad"
   ]
  },
  {
   "cell_type": "code",
   "execution_count": null,
   "id": "7b94fe14-93e2-4c9f-9453-2f8e4f85537f",
   "metadata": {},
   "outputs": [],
   "source": [
    "def factorial(num):\n",
    "    if num == 0 or num == 1: # Condición base\n",
    "        return 1\n",
    "\n",
    "    # Lógica: 5! == 5*4*3*2*1 == 5*4!\n",
    "    return num * factorial(num-1)\n",
    "\n",
    "for i in range(10):\n",
    "    print(factorial(i))"
   ]
  },
  {
   "cell_type": "code",
   "execution_count": null,
   "id": "f5833562-f0c1-47a4-82c6-315e04706d01",
   "metadata": {},
   "outputs": [],
   "source": [
    "def nth_fibonacci_num(n):\n",
    "    if n < 0:\n",
    "        raise ValueError(\"Input must be a non-negative integer\")\n",
    "    elif n == 0: # Condición base\n",
    "        return 0\n",
    "    elif n == 1: # Condición base\n",
    "        return 1\n",
    "    else:\n",
    "        return nth_fibonacci_num(n - 1) + nth_fibonacci_num(n - 2) # Lógica\n",
    "\n",
    "\n",
    "for i in range(15):\n",
    "    print(nth_fibonacci_num(i))"
   ]
  },
  {
   "cell_type": "code",
   "execution_count": null,
   "id": "0b176054-cfd9-4f1a-b932-fe71e374d126",
   "metadata": {},
   "outputs": [],
   "source": [
    "# Ejemplo de un while usando recursividad\n",
    "\n",
    "def recursive_loop():\n",
    "    user_input = input(\"Enter something (or 'exit' to stop): \")\n",
    "    if user_input.lower() == 'exit': # Condición base\n",
    "        print(\"Exiting...\")\n",
    "    else:\n",
    "        print(f\"You entered: {user_input}\")\n",
    "        recursive_loop() # Lógica\n",
    "\n",
    "recursive_loop()"
   ]
  },
  {
   "cell_type": "markdown",
   "id": "3a1ac5e7-399e-43d1-a808-e5ab3f2b061f",
   "metadata": {},
   "source": [
    "### Decoradores"
   ]
  },
  {
   "cell_type": "code",
   "execution_count": null,
   "id": "396a15e9-7387-45d0-a72f-abcd5c53f785",
   "metadata": {},
   "outputs": [],
   "source": [
    "import time\n",
    "\n",
    "# Decorador para temporizar la ejecución de una función\n",
    "\n",
    "def time_it(func):\n",
    "    def wrapper(*args, **kwargs):\n",
    "        start = time.time()\n",
    "        result = func(*args, **kwargs) # Llamamos nuestra función aquí\n",
    "        end = time.time()\n",
    "        print(f\"Execution time: {end-start} seconds\")\n",
    "        return result\n",
    "    return wrapper\n",
    "\n",
    "@time_it\n",
    "def long_for():\n",
    "    for i in range(100_000_000):\n",
    "        i = 0\n",
    "    return \"Hola\"\n",
    "\n",
    "long_for()"
   ]
  },
  {
   "cell_type": "code",
   "execution_count": null,
   "id": "6fa529ee-46b0-4f1b-8146-a41c42e29e17",
   "metadata": {},
   "outputs": [],
   "source": [
    "# Podemos tener decoradores con parámetros\n",
    "\n",
    "def time_it(verbose = 2):\n",
    "    def decorator(func):\n",
    "        def wrapper(*args, **kwargs):\n",
    "            start_time = time.time()\n",
    "            result = func(*args, **kwargs)\n",
    "            end_time = time.time()\n",
    "            if verbose >= 2:\n",
    "                print(f\"Start time = {start_time}\")\n",
    "                print(f\"End time = {end_time}\")\n",
    "            if verbose >=1:\n",
    "                print(f\"Execution time: {end_time - start_time:.4f} seconds\")\n",
    "            return result\n",
    "        return wrapper\n",
    "    return decorator\n",
    "\n",
    "@time_it(2)\n",
    "def slow_function(seconds):\n",
    "    time.sleep(seconds)\n",
    "    print(\"Function completed\")\n",
    "\n",
    "# Usage\n",
    "slow_function(2)"
   ]
  },
  {
   "cell_type": "code",
   "execution_count": null,
   "id": "038b87c6-76b3-4bdf-aa34-2de61f628460",
   "metadata": {},
   "outputs": [],
   "source": [
    "@time_it(verbose=1)\n",
    "def slow_function(seconds):\n",
    "    time.sleep(seconds)\n",
    "    print(\"Function completed\")\n",
    "\n",
    "# Usage\n",
    "slow_function(2)"
   ]
  },
  {
   "cell_type": "code",
   "execution_count": null,
   "id": "3bd0b95f-b179-409b-ab71-40d20b965aa2",
   "metadata": {},
   "outputs": [],
   "source": [
    "@time_it(verbose=0)\n",
    "def slow_function(seconds):\n",
    "    time.sleep(seconds)\n",
    "    print(\"Function completed\")\n",
    "\n",
    "# Usage\n",
    "slow_function(2)"
   ]
  },
  {
   "cell_type": "markdown",
   "id": "04a24fb2-49e7-484c-8ddf-093dc81d0795",
   "metadata": {},
   "source": [
    "### Generadores"
   ]
  },
  {
   "cell_type": "code",
   "execution_count": null,
   "id": "7f1f772d-5c2b-4d81-8ed1-f3fa854dea20",
   "metadata": {},
   "outputs": [],
   "source": [
    "# En Python existe un tipo de objeto llamado generador. Estos objetos permiten iterar sobre ellos y arrojan valores de manera programática,\n",
    "# sin necesariamente almacenarlos todos a la vez en memoria.\n",
    "\n",
    "def custom_range(n):\n",
    "    counter = 0\n",
    "    while counter < n:\n",
    "        yield counter # yield es como un return, pero no detiene la función. En su lugar, arroja el valor y se sigue ejecutando el código.\n",
    "        counter += 1\n",
    "        \n",
    "for num in custom_range(5): # range(5)\n",
    "    print(num)"
   ]
  },
  {
   "cell_type": "code",
   "execution_count": null,
   "id": "8abf0320-6ed2-42f4-add6-4c4e7dad47ad",
   "metadata": {},
   "outputs": [],
   "source": [
    "type(custom_range)"
   ]
  },
  {
   "cell_type": "code",
   "execution_count": null,
   "id": "87d78f3f-31ad-49b0-832c-0fc62ef4e63b",
   "metadata": {},
   "outputs": [],
   "source": [
    "type(custom_range(5))"
   ]
  },
  {
   "cell_type": "code",
   "execution_count": null,
   "id": "a22894a0-4f62-41f9-83c7-04dba03b5642",
   "metadata": {},
   "outputs": [],
   "source": [
    "# Sin poner un return, Python automáticamente asigna el retorno de la función a tipo generador. Por lo tanto, podemos utilizar el método yield\n",
    "# directamente en el método dunder __iter__()\n",
    "\n",
    "class Baraja:\n",
    "    def __init__(self):\n",
    "        self.cartas = [num for num in range(8)]\n",
    "\n",
    "    def __iter__(self):\n",
    "        for carta in self.cartas:\n",
    "            yield carta\n",
    "\n",
    "baraja = Baraja()\n",
    "\n",
    "for carta in baraja:\n",
    "    print(carta)"
   ]
  },
  {
   "cell_type": "code",
   "execution_count": null,
   "id": "3dbb46f1-4f2c-4552-a409-3bcde5fd3ad3",
   "metadata": {},
   "outputs": [],
   "source": [
    "# Podemos utilizar la keyword from para arrojar valores de otro generador u iterador\n",
    "\n",
    "def quadratic_range(n=2):\n",
    "    yield from range(n**2)\n",
    "\n",
    "for num in quadratic_range(2):\n",
    "    print(num)"
   ]
  },
  {
   "cell_type": "code",
   "execution_count": null,
   "id": "248d1a12-1944-4ac8-b261-026d9d8195e2",
   "metadata": {},
   "outputs": [],
   "source": [
    "# Podemos utilizar la función `next()` para acceder al siguiente elemento de un generador, hasta agotarlos\n",
    "range_2 = quadratic_range(2)\n",
    "\n",
    "print(next(range_2))\n",
    "print(next(range_2))\n",
    "print(next(range_2))\n",
    "print(next(range_2))"
   ]
  },
  {
   "cell_type": "code",
   "execution_count": null,
   "id": "50298d97-142b-41c7-b110-22e994088062",
   "metadata": {},
   "outputs": [],
   "source": [
    "# Si utilizamos `next()` sobre un generador vacío, obtendremos una excepción de tipo StopIteration\n",
    "\n",
    "print(next(range_2))"
   ]
  },
  {
   "cell_type": "code",
   "execution_count": null,
   "id": "5a1cb5bf-b0bb-4c05-9f1e-9d05a3e4b4ed",
   "metadata": {},
   "outputs": [],
   "source": [
    "# Podemos tener generadores que reciben elementos con el método `.send()` , además de arrojarlos\n",
    "\n",
    "def counter():\n",
    "    total = 0\n",
    "    while True:\n",
    "        value = (yield total)\n",
    "        if value is not None:\n",
    "            total += value\n",
    "\n",
    "gen = counter()\n",
    "next(gen)\n",
    "\n",
    "print(gen.send(10))\n",
    "print(gen.send(1))\n",
    "print(gen.send(5))\n",
    "print(gen.send(4))"
   ]
  },
  {
   "cell_type": "markdown",
   "id": "c4f22eb0-0388-49e4-b633-f76fa3cd0294",
   "metadata": {},
   "source": [
    "### Módulo `functools`"
   ]
  },
  {
   "cell_type": "code",
   "execution_count": null,
   "id": "cc8e8cf0-6af1-49e2-9e90-2f3af8addcc5",
   "metadata": {},
   "outputs": [],
   "source": [
    "import functools\n",
    "\n",
    "# Podemos utilizar lru_cache para almacenar retornos de funciones \n",
    "@functools.lru_cache(maxsize=128)\n",
    "def pow_2(n):\n",
    "    print(f\"Computing {n}...\")\n",
    "    return n * n\n",
    "\n",
    "print(pow_2(10))\n",
    "print(pow_2(10))  # cache hit\n",
    "print(pow_2(11))  # cache miss"
   ]
  },
  {
   "cell_type": "code",
   "execution_count": null,
   "id": "ae7fb7f3-ba3f-49f2-94fb-a6eb50e1c158",
   "metadata": {},
   "outputs": [],
   "source": [
    "# Los partials nos permiten introducir argumentos a una función parcialmente para completarla en otro momento. El mismo efecto\n",
    "# se puede lograr con lambdas o con currying, pero esto es más eficiente a nivel computacional, ya que nos ahorramos una llamada y por lo tanto\n",
    "# una operación de stack en nuestra memoria.\n",
    "\n",
    "def power(base, exponent):\n",
    "    return base ** exponent\n",
    "\n",
    "square = functools.partial(power, exponent=2)\n",
    "cube = functools.partial(power, exponent=3)\n",
    "\n",
    "print(type(square), square(5))  # <class 'functools.partial'> 25 (5^2)\n",
    "print(type(cube), cube(5))    # <class 'functools.partial'> 125 (5^3)"
   ]
  },
  {
   "cell_type": "code",
   "execution_count": null,
   "id": "82863556-d60c-4bb5-babd-faa91774efc5",
   "metadata": {},
   "outputs": [],
   "source": [
    "# Esta función se utiliza igual que partial, pero sirve para los métodos de una clase\n",
    "\n",
    "class Calculator:\n",
    "    def power(self, base, exponent):\n",
    "        return base ** exponent\n",
    "\n",
    "    square = functools.partialmethod(power, exponent=2)\n",
    "    cube = functools.partialmethod(power, exponent=3)\n",
    "\n",
    "calc = Calculator()\n",
    "print(type(calc.square), calc.square(4))  # <class 'functools.partial'> 16 (4^2)\n",
    "print(type(calc.cube), calc.cube(3))    # <class 'functools.partial'> 27 (3^3)\n"
   ]
  },
  {
   "cell_type": "code",
   "execution_count": null,
   "id": "5a1ff6d6-068c-412d-8515-e3fd02a15aa4",
   "metadata": {},
   "outputs": [],
   "source": [
    "# La función wraps ayuda a mejorar nuestros decoradores conservando el metadata de la función original. Para usarla debemos decorar la función\n",
    "# wrapper dentro de nuestro decorador.\n",
    "\n",
    "# Sin wraps\n",
    "def my_decorator(func):\n",
    "    def wrapper(*args, **kwargs):\n",
    "        print(f\"Calling {func.__name__}\")\n",
    "        return func(*args, **kwargs)\n",
    "    return wrapper\n",
    "\n",
    "@my_decorator\n",
    "def say_hello():\n",
    "    \"\"\"This function says hello.\"\"\"\n",
    "    print(\"Hello!\")\n",
    "\n",
    "say_hello()\n",
    "print(say_hello.__name__)  # wrapper\n",
    "print(say_hello.__doc__)   # None"
   ]
  },
  {
   "cell_type": "code",
   "execution_count": null,
   "id": "a5dab5c0-62b0-459b-8cfe-eeb6e73efde9",
   "metadata": {},
   "outputs": [],
   "source": [
    "# Usando wraps\n",
    "def my_decorator(func):\n",
    "    @functools.wraps(func)\n",
    "    def wrapper(*args, **kwargs):\n",
    "        print(f\"Calling {func.__name__}\")\n",
    "        return func(*args, **kwargs)\n",
    "    return wrapper\n",
    "\n",
    "@my_decorator\n",
    "def say_hello():\n",
    "    \"\"\"This function says hello.\"\"\"\n",
    "    print(\"Hello!\")\n",
    "\n",
    "say_hello()\n",
    "print(say_hello.__name__)  # say_hello \n",
    "print(say_hello.__doc__)   # \"This function says hello.\""
   ]
  },
  {
   "cell_type": "markdown",
   "id": "3f3018d7-708b-4145-af7e-426f0206aa05",
   "metadata": {},
   "source": [
    "# Optimización de código\n",
    "## DRY\n",
    "El principio DRY hace referencia a Don't Repeat Yourself (No te repitas). Esto es clave no solo en la filosofía de clean code, donde queremos tener un código de tal forma que esté modularizado y cada función y clase tenga una responsabilidad única, sino que también afecta a como desarrollamos pensando en la eficiencia. Si en clean code DRY simboliza la simpleza, cuando hablamos de _performance_ estamos buscando la manera de que no se ejecuten más operaciones de las necesarias."
   ]
  },
  {
   "cell_type": "code",
   "execution_count": null,
   "id": "b15c2012-bb36-4df8-808a-69cc89271842",
   "metadata": {},
   "outputs": [],
   "source": [
    "# ¿Cuál de estas dos funciones es más eficiente?\n",
    "\n",
    "@time_it(2)\n",
    "def drop_duplicates_1(lista):\n",
    "    i = 0\n",
    "    resultado = set()\n",
    "    while i < len(lista):\n",
    "        resultado.add(lista[i])\n",
    "        i +=1\n",
    "    return resultado\n",
    "\n",
    "@time_it(2)\n",
    "def drop_duplicates_2(lista):\n",
    "    i = 0\n",
    "    resultado = set()\n",
    "    size = len(lista)\n",
    "    while i < size:\n",
    "        resultado.add(lista[i])\n",
    "        i +=1\n",
    "    return resultado"
   ]
  },
  {
   "cell_type": "code",
   "execution_count": null,
   "id": "5aa7bda5-520e-4ce4-b86f-f81942215381",
   "metadata": {},
   "outputs": [],
   "source": [
    "lista = [num for num in range(10_000)]\n",
    "lista_enorme = [num for num in range(100_000_000)]"
   ]
  },
  {
   "cell_type": "code",
   "execution_count": null,
   "id": "0ef81334-7481-4966-b639-294e68839cdf",
   "metadata": {},
   "outputs": [],
   "source": [
    "drop_duplicates_1(lista)\n",
    "print()\n",
    "drop_duplicates_2(lista)\n",
    "print()"
   ]
  },
  {
   "cell_type": "code",
   "execution_count": null,
   "id": "383c5ed7-7435-45c9-b4a1-17586037f64c",
   "metadata": {},
   "outputs": [],
   "source": [
    "drop_duplicates_1(lista_enorme)\n",
    "print()\n",
    "drop_duplicates_2(lista_enorme)\n",
    "print()"
   ]
  },
  {
   "cell_type": "markdown",
   "id": "146e89a7-d77a-4056-93db-30c3f8ffcef1",
   "metadata": {},
   "source": [
    "## Big O(n)\n",
    "Esto es un concepto que proviene de las matemáticas, y es el estudio de la complejidad de una operación. La complejidad determina cómo varía el consumo de recursos de la operación en función del tamaño del input. En la programación, tenemos dos recursos principales de los que preocuparnos: el tiempo y la memoria.\n",
    "\n",
    "En la enorme mayoría de las ocasiones estaremos sacrificando tiempo de ejecución por mejor manejo de memoria, o viceversa. Qué debemos hacer en cada caso va a depender mucho de las necesidades del problema que estamos resolviendo.\n",
    "\n",
    "En la notación de O(n) no se tienen en cuenta las constantes (el _overhead_), sino únicamente como influye el input en los recursos.\n",
    "\n",
    "A continuación se pueden ver ejemplos de algoritmos de diferentes complejidades temporales en orden de menor a mayor influencia del input."
   ]
  },
  {
   "cell_type": "code",
   "execution_count": null,
   "id": "b398b5c6-3599-4dc8-9f42-46a4a94d1cef",
   "metadata": {},
   "outputs": [],
   "source": [
    "array = [1,43,12,5,12,65334,132,124,1111,98]\n",
    "sorted_array = sorted(array)"
   ]
  },
  {
   "cell_type": "code",
   "execution_count": null,
   "id": "136f4446-ace3-4d02-ba68-fba9600984e3",
   "metadata": {},
   "outputs": [],
   "source": [
    "# y = 4x + 3 -> O(n)"
   ]
  },
  {
   "cell_type": "code",
   "execution_count": null,
   "id": "34ff6f08-0e45-410f-9197-a10d26e49dbd",
   "metadata": {},
   "outputs": [],
   "source": [
    "%%time\n",
    "# Complejidad O(1) (constante)\n",
    "\n",
    "def get_first_element(arr):\n",
    "    return arr[0]\n",
    "\n",
    "get_first_element(array)"
   ]
  },
  {
   "cell_type": "code",
   "execution_count": null,
   "id": "dd9ca994-c9e2-41bb-83a6-c4751bde8d47",
   "metadata": {},
   "outputs": [],
   "source": [
    "%%time\n",
    "# Complejidad O(log n) (logarítmica)\n",
    "\n",
    "def binary_search(arr, target):\n",
    "    left, right = 0, len(arr) - 1\n",
    "    while left <= right:\n",
    "        mid = (left + right) // 2\n",
    "        if arr[mid] == target:\n",
    "            return mid\n",
    "        elif arr[mid] < target:\n",
    "            left = mid + 1\n",
    "        else:\n",
    "            right = mid - 1\n",
    "    return -1 # No encontrado\n",
    "\n",
    "binary_search(sorted_array, 1111)"
   ]
  },
  {
   "cell_type": "code",
   "execution_count": null,
   "id": "3f811c20-4419-4702-8aa1-37c04a5d9d1b",
   "metadata": {},
   "outputs": [],
   "source": [
    "%%time\n",
    "# Complejidad O(n) (lineal)\n",
    "\n",
    "def search(arr, target):\n",
    "    for idx, num in enumerate(arr):\n",
    "        if num == target:\n",
    "            return idx\n",
    "    return -1 # No encontrado\n",
    "\n",
    "search(sorted_array, 1111)"
   ]
  },
  {
   "cell_type": "code",
   "execution_count": null,
   "id": "d5feeb74-c2a7-4a91-a96b-86206d3ffab0",
   "metadata": {},
   "outputs": [],
   "source": [
    "%%time\n",
    "# Complejidad O(n log n) (n-logarítmica)\n",
    "\n",
    "def merge_sort(arr):\n",
    "    if len(arr) <= 1:\n",
    "        return arr\n",
    "    mid = len(arr) // 2\n",
    "    left_half = merge_sort(arr[:mid])\n",
    "    right_half = merge_sort(arr[mid:])\n",
    "    return merge(left_half, right_half)\n",
    "\n",
    "# Función auxiliar\n",
    "def merge(left, right):\n",
    "    result = []\n",
    "    i = j = 0\n",
    "    while i < len(left) and j < len(right):\n",
    "        if left[i] < right[j]:\n",
    "            result.append(left[i])\n",
    "            i += 1\n",
    "        else:\n",
    "            result.append(right[j])\n",
    "            j += 1\n",
    "    result.extend(left[i:])\n",
    "    result.extend(right[j:])\n",
    "    return result\n",
    "\n",
    "merge_sort(array)"
   ]
  },
  {
   "cell_type": "code",
   "execution_count": null,
   "id": "3e656486-0e4e-4a4e-88b0-e406a074f4cf",
   "metadata": {},
   "outputs": [],
   "source": [
    "%%time\n",
    "# Complejidad O(n**2) (cuadrática)\n",
    "\n",
    "def bubble_sort(arr):\n",
    "    n = len(arr)\n",
    "    for i in range(n):\n",
    "        for j in range(0, n - i - 1):\n",
    "            if arr[j] > arr[j + 1]:\n",
    "                arr[j], arr[j + 1] = arr[j + 1], arr[j]\n",
    "    return arr\n",
    "\n",
    "bubble_sort(array)"
   ]
  },
  {
   "cell_type": "code",
   "execution_count": null,
   "id": "83d2d74d-6fe1-40f7-99a1-467392d211a0",
   "metadata": {},
   "outputs": [],
   "source": [
    "%%time\n",
    "# Complejidad O(2**n) (exponencial)\n",
    "\n",
    "def fibonacci(n):\n",
    "    if n <= 1:\n",
    "        return n\n",
    "    return fibonacci(n - 1) + fibonacci(n - 2)\n",
    "\n",
    "fibonacci(100)"
   ]
  },
  {
   "cell_type": "code",
   "execution_count": null,
   "id": "3f3c6ccb-f404-4f68-bc38-5ebec21bae6c",
   "metadata": {
    "scrolled": true
   },
   "outputs": [],
   "source": [
    "%%time\n",
    "\n",
    "# Complejidad O(n!) (factorial)\n",
    "\n",
    "def generate_permutations(arr):\n",
    "    if len(arr) == 0:\n",
    "        return []\n",
    "    if len(arr) == 1:\n",
    "        return [arr]\n",
    "        \n",
    "    perms = []\n",
    "    for i in range(len(arr)):\n",
    "        current = arr[i]\n",
    "        remaining = arr[:i] + arr[i+1:]\n",
    "        \n",
    "        for p in generate_permutations(remaining):\n",
    "            perms.append([current] + p)\n",
    "\n",
    "    return perms\n",
    "\n",
    "generate_permutations(array)"
   ]
  },
  {
   "cell_type": "markdown",
   "id": "f2109310-52bd-4ec5-a7be-748c15e7ed8b",
   "metadata": {},
   "source": [
    "## Consumo de memoria vs tiempo de ejecución"
   ]
  },
  {
   "cell_type": "code",
   "execution_count": null,
   "id": "3b0ed24e-f03f-49ff-a831-13f248b5e738",
   "metadata": {},
   "outputs": [],
   "source": [
    "import pandas as pd\n",
    "\n",
    "p_lista = \"datos.csv\"\n",
    "\n",
    "# Función optimizada para velocidad\n",
    "\n",
    "def mean(lista): # lista = 1.1 MB = ~1_100_000 bytes \n",
    "    suma = 0 # 24 bytes\n",
    "    for elem in lista: # elem = 24 bytes\n",
    "        suma += elem\n",
    "    size = len(lista) # 24 bytes\n",
    "    return suma / size if size > 0 else 0 # 24 bytes\n"
   ]
  },
  {
   "cell_type": "code",
   "execution_count": null,
   "id": "892aef1f-d48d-47db-8362-c4dd139ce4f9",
   "metadata": {},
   "outputs": [],
   "source": [
    "# Función optimizada para reducir el uso de memoria\n",
    "\n",
    "def mean_lazy(p_lista, headers=True): # headers = 1 byte | p_lista = ~64 bytes\n",
    "    suma = 0 # 24 bytes\n",
    "    size = 0 # 24 bytes\n",
    "    f = None # 0 bytes (null pointer)\n",
    "    try:\n",
    "        f = open(p_lista) # ~8192 bytes (file buffer)\n",
    "        line = f.readline() # ~256 bytes\n",
    "        if headers:\n",
    "            line = f.readline()\n",
    "\n",
    "        while line:\n",
    "            values = line.split(\",\") # ~1024 bytes\n",
    "            num = float(values[3]) # 24 bytes\n",
    "            suma += num\n",
    "            size += 1\n",
    "            line = f.readline()\n",
    "        \n",
    "    except Exception as e:\n",
    "        print(f\"An error occurred: {e}\") # ~64 bytes\n",
    "    \n",
    "    finally:\n",
    "        if f is not None:\n",
    "            f.close()\n",
    "            \n",
    "    return suma / size if size > 0 else 0 # 24 bytes"
   ]
  },
  {
   "cell_type": "code",
   "execution_count": null,
   "id": "fb1c867b-2dd8-4d28-964a-ec351043f60f",
   "metadata": {},
   "outputs": [],
   "source": [
    "%%timeit\n",
    "# Total memory usage ~12.6MB\n",
    "lista = pd.read_csv(p_lista)[\"age\"].to_list()"
   ]
  },
  {
   "cell_type": "code",
   "execution_count": null,
   "id": "c13f43e0-62c4-456c-8498-30ef62b92b4a",
   "metadata": {},
   "outputs": [],
   "source": [
    "%%timeit\n",
    "# Total memory usage >1.1MB\n",
    "lista = pd.read_csv(p_lista)[\"age\"].to_list()\n",
    "mean(lista)"
   ]
  },
  {
   "cell_type": "code",
   "execution_count": null,
   "id": "1be0b28b-5f42-44cf-9463-557f0b1a46fb",
   "metadata": {},
   "outputs": [],
   "source": [
    "%%timeit\n",
    "# Total memory usage ~10KB\n",
    "lista = pd.read_csv(p_lista)[\"age\"].to_list()\n",
    "mean_lazy(p_lista)"
   ]
  },
  {
   "cell_type": "markdown",
   "id": "a732d530-57ff-49ac-91c3-9f838eaae67b",
   "metadata": {},
   "source": [
    "## Garbage collection\n",
    "Muchos lenguajes de programación funcionan con un garbage collector para que no nos tengamos que preocupar demasiado por el manejo de memoria. Entre esos lenguajes se encuentra Python.\n",
    "\n",
    "El garbage collector no es más que un programa o proceso que se ejecuta junto con el programa que nosotros hemos escrito. Se encarga de recolectar variables y de liberar la memoria que ocupan cuando se dejan de utilizar. En uno de los ejemplos anteriores, cuando cargamos la lista con `pandas`, por un momento estamos creando un dataframe. Como no lo estamos almacenando en ninguna variable, el garbage collector se encarga de eliminar ese dataframe de la memoria tan pronto como puede. Por esa razón esta celda llega a tardar incluso más en ejecutarse que nuestra función `mean_lazy()`.\n",
    "\n",
    "```python\n",
    "%%time\n",
    "# Total memory usage ~12.6MB\n",
    "lista = pd.read_csv(p_lista)[\"age\"].to_list()\n",
    "print(mean(lista))\n",
    "```\n",
    "\n",
    "En la práctica rara vez tenemos que pensar en el garbage collector cuando trabajamos con Python, pero si identificamos un código como el anterior dentro de un bucle por ejemplo, debemos prestarle atención porque habrá bastante margen de mejora en cuanto al rendimiento."
   ]
  },
  {
   "cell_type": "markdown",
   "id": "829d87b8-47c9-4e4d-8a50-8f173ac78ed2",
   "metadata": {},
   "source": [
    "## Outsourcing\n",
    "Otra forma de mejorar de manera significativa nuestro código en términos de eficiencia es aprovechar las herramientas que ofrecen Python a nuestra disposición, así como las librerías externas que ofrecen mejoras de eficiencia como `numpy`.\n",
    "\n",
    "Python es un lenguaje lento de facto, es el precio a pagar por su simpleza y fácilidad de adopción. No obstante, podemos aprovechar el poder de otros lenguajes como C, C++, Rust, Zig y otros sin salir de nuestro notebook. Muchos de estos códigos pesados, como los algoritmos de _sorting_, ya tienen una implementación optimizada en estos lenguajes de bajo nivel. Nosotros tan solo tenemos que utilizar la interfaz que nos ofrecen para Python si necesitamos realizar las tareas pertinentes."
   ]
  },
  {
   "cell_type": "code",
   "execution_count": null,
   "id": "a76bf368-edd9-4cf9-8489-61acebcf2613",
   "metadata": {},
   "outputs": [],
   "source": [
    "# En lugar de implementar nuestro propio algoritmo para ordenar, podemos usar `sorted()`\n",
    "\n",
    "lista = [12312,12,312,11,-1221,312,643,87654,124564536451]\n",
    "sorted(lista)"
   ]
  },
  {
   "cell_type": "code",
   "execution_count": null,
   "id": "ef15999e-8a73-4e73-96df-9eda1d9f5ec9",
   "metadata": {},
   "outputs": [],
   "source": [
    "import numpy as np\n",
    "\n",
    "# En lugar de utilizar listas, podemos utilizar los arrays de numpy\n",
    "array = np.array([12312,12,312,11,-1221,312,643,87654,124564536451])\n",
    "array.sort()\n",
    "array"
   ]
  },
  {
   "cell_type": "markdown",
   "id": "71a99f31-5bef-41ed-89b8-ca10ff83b2af",
   "metadata": {},
   "source": [
    "## Tips extra\n",
    "- Evitar variables globales. Cuantas menos variables globales tengamos, mejor. Idealmente no deberías tener ninguna.\n",
    "- Aprovechar los generadores y los iteradores para no cargar muchos elementos de golpe en memoria, sino calcularlos uno a uno conforme sea necesario.\n",
    "- Utilizar `%%time` o `%%timeit` para obtener unas medidas de ejecución como se ha hecho en los ejemplos de Big O.\n",
    "- Aprovechar los sets y los diccionarios, pues suelen tener una complejidad temporal constante a la hora de indexarlos, a diferencia de las listas.\n",
    "- Evitar bucles innecesarios. Aprovechar el módulo `itertools` para operaciones comunes de bucles y combinatoria.\n",
    "- Evitar utilizar operaciones costosas como `try-except` dentro de bucles siempre que sea posible.\n",
    "- Evitar hacer operaciones I/O de una en una:\n",
    "    ```python\n",
    "    with open('output.txt', 'w') as f:\n",
    "        for line in lines:\n",
    "            f.write(line + '\\n')\n",
    "    ```\n",
    "    \n",
    "    VS\n",
    "  \n",
    "    ```python\n",
    "    with open('output.txt', 'w') as f:\n",
    "        f.write('\\n'.join(lines))\n",
    "    ```"
   ]
  }
 ],
 "metadata": {
  "kernelspec": {
   "display_name": "Python 3 (ipykernel)",
   "language": "python",
   "name": "python3"
  },
  "language_info": {
   "codemirror_mode": {
    "name": "ipython",
    "version": 3
   },
   "file_extension": ".py",
   "mimetype": "text/x-python",
   "name": "python",
   "nbconvert_exporter": "python",
   "pygments_lexer": "ipython3",
   "version": "3.11.7"
  }
 },
 "nbformat": 4,
 "nbformat_minor": 5
}
